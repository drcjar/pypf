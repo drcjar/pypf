{
 "cells": [
  {
   "cell_type": "code",
   "execution_count": 1,
   "metadata": {
    "collapsed": false
   },
   "outputs": [],
   "source": [
    "%matplotlib inline\n",
    "import pandas as pd\n",
    "from pandas import DataFrame\n",
    "import pickle\n",
    "import folium\n",
    "from IPython import display\n"
   ]
  },
  {
   "cell_type": "code",
   "execution_count": 2,
   "metadata": {
    "collapsed": false
   },
   "outputs": [],
   "source": [
    "df = pd.read_pickle('.././data/pickle/pypf_prep.pkl')\n",
    "regionlookup = pd.read_csv('.././data/maps/oldnewlookupregions.csv', names=['GOR10CD', 'Area_code', 'Region'])\n",
    "regionlookup['Region'] = regionlookup['Region'].str.upper()\n",
    "regionlookup['Region'] = regionlookup['Region'].str.strip()\n",
    "regionlookup['Region'] = regionlookup['Region'].str.replace('EAST OF ENGLAND', 'EAST')\n",
    "#or_geo = '.././data/maps/gor.json'"
   ]
  },
  {
   "cell_type": "code",
   "execution_count": 3,
   "metadata": {
    "collapsed": false
   },
   "outputs": [],
   "source": [
    "maps = {}\n",
    "\n",
    "for cause in df.Cause.unique():\n",
    "    grp = df[(df['Cause'] == cause) & (df['Sex'] == 'Male')].groupby('Region')['Rate per 100,000 (standardised)'].mean()\n",
    "    grp = DataFrame(grp).reset_index()\n",
    "    maps[cause] = pd.merge(grp, regionlookup, on='Region')\n"
   ]
  },
  {
   "cell_type": "code",
   "execution_count": 4,
   "metadata": {
    "collapsed": false
   },
   "outputs": [
    {
     "data": {
      "text/html": [
       "<div>\n",
       "<table border=\"1\" class=\"dataframe\">\n",
       "  <thead>\n",
       "    <tr style=\"text-align: right;\">\n",
       "      <th></th>\n",
       "      <th>Region</th>\n",
       "      <th>Rate per 100,000 (standardised)</th>\n",
       "      <th>GOR10CD</th>\n",
       "      <th>Area_code</th>\n",
       "    </tr>\n",
       "  </thead>\n",
       "  <tbody>\n",
       "    <tr>\n",
       "      <th>0</th>\n",
       "      <td>EAST</td>\n",
       "      <td>7.861819</td>\n",
       "      <td>E12000006</td>\n",
       "      <td>C000G</td>\n",
       "    </tr>\n",
       "    <tr>\n",
       "      <th>1</th>\n",
       "      <td>EAST MIDLANDS</td>\n",
       "      <td>6.482373</td>\n",
       "      <td>E12000004</td>\n",
       "      <td>C000E</td>\n",
       "    </tr>\n",
       "    <tr>\n",
       "      <th>2</th>\n",
       "      <td>LONDON</td>\n",
       "      <td>8.220906</td>\n",
       "      <td>E12000007</td>\n",
       "      <td>C000H</td>\n",
       "    </tr>\n",
       "    <tr>\n",
       "      <th>3</th>\n",
       "      <td>NORTH EAST</td>\n",
       "      <td>17.543943</td>\n",
       "      <td>E12000001</td>\n",
       "      <td>C000A</td>\n",
       "    </tr>\n",
       "    <tr>\n",
       "      <th>4</th>\n",
       "      <td>NORTH WEST</td>\n",
       "      <td>8.965068</td>\n",
       "      <td>E12000002</td>\n",
       "      <td>C000B</td>\n",
       "    </tr>\n",
       "    <tr>\n",
       "      <th>5</th>\n",
       "      <td>SOUTH EAST</td>\n",
       "      <td>9.205414</td>\n",
       "      <td>E12000008</td>\n",
       "      <td>C000J</td>\n",
       "    </tr>\n",
       "    <tr>\n",
       "      <th>6</th>\n",
       "      <td>SOUTH WEST</td>\n",
       "      <td>7.618154</td>\n",
       "      <td>E12000009</td>\n",
       "      <td>C000K</td>\n",
       "    </tr>\n",
       "    <tr>\n",
       "      <th>7</th>\n",
       "      <td>WALES</td>\n",
       "      <td>6.184247</td>\n",
       "      <td>W92000004</td>\n",
       "      <td>A0004</td>\n",
       "    </tr>\n",
       "    <tr>\n",
       "      <th>8</th>\n",
       "      <td>WEST MIDLANDS</td>\n",
       "      <td>6.525374</td>\n",
       "      <td>E12000005</td>\n",
       "      <td>C000F</td>\n",
       "    </tr>\n",
       "    <tr>\n",
       "      <th>9</th>\n",
       "      <td>YORKSHIRE AND THE HUMBER</td>\n",
       "      <td>8.646171</td>\n",
       "      <td>E12000003</td>\n",
       "      <td>C000D</td>\n",
       "    </tr>\n",
       "  </tbody>\n",
       "</table>\n",
       "</div>"
      ],
      "text/plain": [
       "                     Region  Rate per 100,000 (standardised)    GOR10CD  \\\n",
       "0                      EAST                         7.861819  E12000006   \n",
       "1             EAST MIDLANDS                         6.482373  E12000004   \n",
       "2                    LONDON                         8.220906  E12000007   \n",
       "3                NORTH EAST                        17.543943  E12000001   \n",
       "4                NORTH WEST                         8.965068  E12000002   \n",
       "5                SOUTH EAST                         9.205414  E12000008   \n",
       "6                SOUTH WEST                         7.618154  E12000009   \n",
       "7                     WALES                         6.184247  W92000004   \n",
       "8             WEST MIDLANDS                         6.525374  E12000005   \n",
       "9  YORKSHIRE AND THE HUMBER                         8.646171  E12000003   \n",
       "\n",
       "  Area_code  \n",
       "0     C000G  \n",
       "1     C000E  \n",
       "2     C000H  \n",
       "3     C000A  \n",
       "4     C000B  \n",
       "5     C000J  \n",
       "6     C000K  \n",
       "7     A0004  \n",
       "8     C000F  \n",
       "9     C000D  "
      ]
     },
     "execution_count": 4,
     "metadata": {},
     "output_type": "execute_result"
    }
   ],
   "source": [
    "maps['All Mesothelioma']"
   ]
  },
  {
   "cell_type": "code",
   "execution_count": 5,
   "metadata": {
    "collapsed": false
   },
   "outputs": [
    {
     "data": {
      "text/html": [
       "<div>\n",
       "<table border=\"1\" class=\"dataframe\">\n",
       "  <thead>\n",
       "    <tr style=\"text-align: right;\">\n",
       "      <th></th>\n",
       "      <th>Rate per 100,000 (standardised)</th>\n",
       "    </tr>\n",
       "  </thead>\n",
       "  <tbody>\n",
       "    <tr>\n",
       "      <th>count</th>\n",
       "      <td>10.000000</td>\n",
       "    </tr>\n",
       "    <tr>\n",
       "      <th>mean</th>\n",
       "      <td>13.155275</td>\n",
       "    </tr>\n",
       "    <tr>\n",
       "      <th>std</th>\n",
       "      <td>1.394424</td>\n",
       "    </tr>\n",
       "    <tr>\n",
       "      <th>min</th>\n",
       "      <td>11.214911</td>\n",
       "    </tr>\n",
       "    <tr>\n",
       "      <th>25%</th>\n",
       "      <td>12.187088</td>\n",
       "    </tr>\n",
       "    <tr>\n",
       "      <th>50%</th>\n",
       "      <td>12.841522</td>\n",
       "    </tr>\n",
       "    <tr>\n",
       "      <th>75%</th>\n",
       "      <td>14.435973</td>\n",
       "    </tr>\n",
       "    <tr>\n",
       "      <th>max</th>\n",
       "      <td>15.200417</td>\n",
       "    </tr>\n",
       "  </tbody>\n",
       "</table>\n",
       "</div>"
      ],
      "text/plain": [
       "       Rate per 100,000 (standardised)\n",
       "count                        10.000000\n",
       "mean                         13.155275\n",
       "std                           1.394424\n",
       "min                          11.214911\n",
       "25%                          12.187088\n",
       "50%                          12.841522\n",
       "75%                          14.435973\n",
       "max                          15.200417"
      ]
     },
     "execution_count": 5,
     "metadata": {},
     "output_type": "execute_result"
    }
   ],
   "source": [
    "maps['IPF'].describe()"
   ]
  },
  {
   "cell_type": "code",
   "execution_count": 6,
   "metadata": {
    "collapsed": false
   },
   "outputs": [],
   "source": [
    "map = folium.Map(location=[54.2, -2.45], zoom_start=5)\n",
    "map.geo_json(geo_path='gor.json', data_out='GorIPF.json', data=maps['IPF'],\n",
    "      columns=['GOR10CD', 'Rate per 100,000 (standardised)'],\n",
    "      key_on='feature.properties.GOR10CD',\n",
    "      threshold_scale=[11, 12, 13, 14, 15],\n",
    "      fill_color='PuBu', fill_opacity=0.7, line_opacity=0.3,\n",
    "      legend_name='Male IPF deaths by region per 100,000 population (1975-2012)')\n",
    "map.create_map(path='IPF_death_per100000.html')\n",
    "\n",
    "map = folium.Map(location=[54.2, -2.45], zoom_start=5)\n",
    "map.geo_json(geo_path='gor.json', data_out='GorMES.json', data=maps['All Mesothelioma'],\n",
    "      columns=['GOR10CD', 'Rate per 100,000 (standardised)'],\n",
    "      key_on='feature.properties.GOR10CD',\n",
    " #%%!     threshold_scale=[6, 7, 8, 9, 10, 16],\n",
    "      fill_color='PuBu', fill_opacity=0.7, line_opacity=0.3,\n",
    "      legend_name='Male Mesothelioma deaths by region per 100,000 population (1975-2012)')\n",
    "map.create_map(path='Mesothelioma_death_per100000.html')\n",
    "\n",
    "map = folium.Map(location=[54.2, -2.45], zoom_start=5)\n",
    "map.geo_json(geo_path='gor.json', data_out='GorASB.json', data=maps['Asbestosis'],\n",
    "      columns=['GOR10CD', 'Rate per 100,000 (standardised)'],\n",
    "      key_on='feature.properties.GOR10CD',\n",
    "     # threshold_scale=[11, 12, 13, 14, 15],\n",
    "      fill_color='PuBu', fill_opacity=0.7, line_opacity=0.3,\n",
    "      legend_name='Male Asbestosis deaths by region per 100,000 population (1975-2012)')\n",
    "map.create_map(path='Asbestosis_death_per100000.html')\n"
   ]
  },
  {
   "cell_type": "code",
   "execution_count": 7,
   "metadata": {
    "collapsed": false
   },
   "outputs": [
    {
     "data": {
      "text/html": [
       "\n",
       "        <iframe\n",
       "            width=\"100%\"\n",
       "            height=\"500\"\n",
       "            src=\"IPF_death_per100000.html\"\n",
       "            frameborder=\"0\"\n",
       "            allowfullscreen\n",
       "        ></iframe>\n",
       "        "
      ],
      "text/plain": [
       "<IPython.lib.display.IFrame at 0x7f0a7beb0350>"
      ]
     },
     "execution_count": 7,
     "metadata": {},
     "output_type": "execute_result"
    }
   ],
   "source": [
    "display.IFrame('IPF_death_per100000.html', '100%', 500)\n"
   ]
  },
  {
   "cell_type": "code",
   "execution_count": 8,
   "metadata": {
    "collapsed": false
   },
   "outputs": [
    {
     "data": {
      "text/html": [
       "\n",
       "        <iframe\n",
       "            width=\"100%\"\n",
       "            height=\"500\"\n",
       "            src=\"Mesothelioma_death_per100000.html\"\n",
       "            frameborder=\"0\"\n",
       "            allowfullscreen\n",
       "        ></iframe>\n",
       "        "
      ],
      "text/plain": [
       "<IPython.lib.display.IFrame at 0x7f0a7beb0490>"
      ]
     },
     "execution_count": 8,
     "metadata": {},
     "output_type": "execute_result"
    }
   ],
   "source": [
    "display.IFrame('Mesothelioma_death_per100000.html', '100%', 500)"
   ]
  },
  {
   "cell_type": "code",
   "execution_count": 9,
   "metadata": {
    "collapsed": false
   },
   "outputs": [
    {
     "data": {
      "text/html": [
       "\n",
       "        <iframe\n",
       "            width=\"100%\"\n",
       "            height=\"500\"\n",
       "            src=\"Asbestosis_death_per100000.html\"\n",
       "            frameborder=\"0\"\n",
       "            allowfullscreen\n",
       "        ></iframe>\n",
       "        "
      ],
      "text/plain": [
       "<IPython.lib.display.IFrame at 0x7f0a7beb0590>"
      ]
     },
     "execution_count": 9,
     "metadata": {},
     "output_type": "execute_result"
    }
   ],
   "source": [
    "display.IFrame('Asbestosis_death_per100000.html', '100%', 500)"
   ]
  },
  {
   "cell_type": "code",
   "execution_count": null,
   "metadata": {
    "collapsed": false
   },
   "outputs": [],
   "source": []
  },
  {
   "cell_type": "code",
   "execution_count": null,
   "metadata": {
    "collapsed": false
   },
   "outputs": [],
   "source": []
  }
 ],
 "metadata": {
  "kernelspec": {
   "display_name": "Python 2",
   "language": "python",
   "name": "python2"
  },
  "language_info": {
   "codemirror_mode": {
    "name": "ipython",
    "version": 2
   },
   "file_extension": ".py",
   "mimetype": "text/x-python",
   "name": "python",
   "nbconvert_exporter": "python",
   "pygments_lexer": "ipython2",
   "version": "2.7.12"
  }
 },
 "nbformat": 4,
 "nbformat_minor": 0
}
