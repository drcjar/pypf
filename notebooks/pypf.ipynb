{
 "metadata": {
  "name": "",
  "signature": "sha256:f928a008be92f3dff9831206ce0829938ef675ced250611ee0c431b52bb84dc7"
 },
 "nbformat": 3,
 "nbformat_minor": 0,
 "worksheets": [
  {
   "cells": [
    {
     "cell_type": "heading",
     "level": 3,
     "metadata": {},
     "source": [
      "Herein we make usable mortality data for IPF, mesothelioma, and asbestosis which is stratified by age, sex, and region."
     ]
    },
    {
     "cell_type": "code",
     "collapsed": false,
     "input": [
      "import pandas as pd\n",
      "import xlrd \n",
      "import numpy as np"
     ],
     "language": "python",
     "metadata": {},
     "outputs": [],
     "prompt_number": 1
    },
    {
     "cell_type": "code",
     "collapsed": false,
     "input": [
      "workbook = xlrd.open_workbook('.././data/eng/Lung disease tables FINAL.xlsx') #what ONS sent part one\n",
      "print workbook.sheet_names()\n",
      "df = pd.read_excel('.././data/eng/Lung disease tables FINAL.xlsx', 'Contents') #lets load the contents worksheet\n",
      "df.head() #lets look at the contents "
     ],
     "language": "python",
     "metadata": {},
     "outputs": [
      {
       "output_type": "stream",
       "stream": "stdout",
       "text": [
        "[u'Contents', u'Table 1', u'Table 2', u'Table 3', u'Table 4', u'Table 5', u'Table 6']\n"
       ]
      },
      {
       "html": [
        "<div style=\"max-height:1000px;max-width:1500px;overflow:auto;\">\n",
        "<table border=\"1\" class=\"dataframe\">\n",
        "  <thead>\n",
        "    <tr style=\"text-align: right;\">\n",
        "      <th></th>\n",
        "      <th>Contents</th>\n",
        "      <th>Unnamed: 1</th>\n",
        "    </tr>\n",
        "  </thead>\n",
        "  <tbody>\n",
        "    <tr>\n",
        "      <th>0</th>\n",
        "      <td>     NaN</td>\n",
        "      <td>                                               NaN</td>\n",
        "    </tr>\n",
        "    <tr>\n",
        "      <th>1</th>\n",
        "      <td> Table 1</td>\n",
        "      <td> Number of deaths in each standard region of En...</td>\n",
        "    </tr>\n",
        "    <tr>\n",
        "      <th>2</th>\n",
        "      <td>  Table2</td>\n",
        "      <td> Number of deaths in each standard region of En...</td>\n",
        "    </tr>\n",
        "    <tr>\n",
        "      <th>3</th>\n",
        "      <td> Table 3</td>\n",
        "      <td> Number of deaths in each standard region of En...</td>\n",
        "    </tr>\n",
        "    <tr>\n",
        "      <th>4</th>\n",
        "      <td> Table 4</td>\n",
        "      <td> Number of deaths in each region of England and...</td>\n",
        "    </tr>\n",
        "  </tbody>\n",
        "</table>\n",
        "</div>"
       ],
       "metadata": {},
       "output_type": "pyout",
       "prompt_number": 2,
       "text": [
        "  Contents                                         Unnamed: 1\n",
        "0      NaN                                                NaN\n",
        "1  Table 1  Number of deaths in each standard region of En...\n",
        "2   Table2  Number of deaths in each standard region of En...\n",
        "3  Table 3  Number of deaths in each standard region of En...\n",
        "4  Table 4  Number of deaths in each region of England and..."
       ]
      }
     ],
     "prompt_number": 2
    },
    {
     "cell_type": "code",
     "collapsed": false,
     "input": [
      "df.columns = ['Name', 'Desc'] #lets have Name and Description columns for the worksheets(\n",
      "df.fillna('n/a', inplace=True) #get rid on NaNs\n",
      "df = df[df['Name'].str.contains('Table')] #get rid of rows that aren't about our worksheets of interest\n",
      "df['Name'] = df['Name'].str.replace('Table2', 'Table 2') #correct ONS typo\n",
      "sheets = df.to_dict(outtype='records') #lets save our work as dict"
     ],
     "language": "python",
     "metadata": {},
     "outputs": [],
     "prompt_number": 3
    },
    {
     "cell_type": "code",
     "collapsed": false,
     "input": [
      "#lets make a shorthand table-disease lookup\n",
      "dis_lookup = {'Table 1':'IPF', 'Table 2':'Asbestosis', 'Table 3':'Pulmonary Mesothelioma', \n",
      "              'Table 4':'IPF', 'Table 5':'Asbestosis', 'Table 6':'Pulmonary Mesothelioma', \n",
      "              'Table 7':'All Mesothelioma'} \n",
      "\n",
      "#just a few transforms needed to make the ons data usable\n",
      "transforms = {'YORKSHIRE AND THE HUMBER':'YORKSHIRE AND THE HUMBER',\n",
      "              'YORKSHIRE & HUMBERSIDE':'YORKSHIRE AND THE HUMBER',\n",
      "              'YORKSHIRE & HUMBER':'YORKSHIRE AND THE HUMBER',\n",
      "              'NORTH WEST':'NORTH WEST',\n",
      "              'EAST MIDLANDS':'EAST MIDLANDS', 'WEST MIDLANDS':'WEST MIDLANDS',\n",
      "              'WEST MIDLANDS (REGION)':'WEST MIDLANDS', 'EAST':'EAST', \n",
      "              'SOUTH EAST':'SOUTH EAST', 'SOUTH WEST':'SOUTH WEST', 'WALES':'WALES', \n",
      "              'NORTH EAST':'NORTH EAST', 'LONDON':'LONDON', \n",
      "              'EASTERN':'EAST', 'EAST OF ENGLAND':'EAST', 'EAST ANGLIA':'EAST', 'NORTH':'NORTH EAST', \n",
      "              'YORKSHIRE AND HUMBERSIDE':'YORKSHIRE AND THE HUMBER',\n",
      "              'ALL AGES':'ALL AGES', 'UNDER 25':'UNDER 25', '25-34':'25-34', '35-44':'35-44', \n",
      "              '45-54':'45-54', '55-64':'55-64', '65-74':'65-74', '75-84':'75-84', '85+':'85+',\n",
      "               '<25':'UNDER 25', '25 TO 34':'25-34', '35 TO 44':'35-44','45 TO 54':'45-54', '55 TO 64':'55-64', \n",
      "               '65 TO 74':'65-74', '75 TO 84':'75-84'}\n",
      "\n",
      "#what we're expecting\n",
      "REGIONS = ['YORKSHIRE AND THE HUMBER', 'NORTH WEST','EAST MIDLANDS', 'WEST MIDLANDS', \n",
      "               'EAST', 'SOUTH EAST', 'SOUTH WEST', 'WALES', 'NORTH EAST', 'LONDON']\n",
      "\n",
      "AGEGROUPS = ['ALL AGES', 'UNDER 25', '25-34', '35-44', '45-54', '55-64', '65-74', '75-84', '85+']\n",
      "\n",
      "SEX = ['Male', 'Female']\n",
      "\n",
      "CAUSE = ['IPF', 'Asbestosis', 'Mesothelioma', 'Mesothelioma_other', 'Mesothelioma all']\n",
      "\n",
      "YEARS = ['1974'] \n",
      "for year in range(1975, 2013):\n",
      "    YEARS.append(str(year))\n",
      "    \n",
      "#this works because years are dupilcated in the dataset for women and pandas applies a .1 to indicate it's a duplicate\n",
      "#and men always appear first in our data\n",
      "\n",
      "def sex(year):\n",
      "    year = year % 1\n",
      "    if year == 0.0:\n",
      "        return 'Male'\n",
      "    else:\n",
      "        return 'Female'\n"
     ],
     "language": "python",
     "metadata": {},
     "outputs": [],
     "prompt_number": 4
    },
    {
     "cell_type": "code",
     "collapsed": false,
     "input": [
      "#lets load the worksheets of interest into lists of dataframes using our dict\n",
      "df_list = [pd.read_excel('.././data/eng/Lung disease tables FINAL.xlsx', sheet['Name'], skiprows=4) for sheet in sheets]\n",
      "\n",
      "df_list.append(pd.read_excel('.././data/eng/Mesothelioma table 2 FINAL.xls', 'Table 1', skiprows=3)) #add meso data\n",
      "\n",
      "sheets.append({'Desc': u'Number of deaths in each region of England and Wales where the underlying cause was Mesothelioma (all types), deaths registered between 2001 and 2012.',\n",
      "  'Name': u'Table 7'}) #add meso data"
     ],
     "language": "python",
     "metadata": {},
     "outputs": [],
     "prompt_number": 5
    },
    {
     "cell_type": "code",
     "collapsed": false,
     "input": [
      "for i, item in enumerate(df_list):\n",
      "    df_list[i].rename(columns={'Area of usual residence':'Region'}, inplace=True)\n",
      "    df_list[i]['Region'] = df_list[i]['Region'].fillna(method='pad') #fix the first column\n",
      "    df_list[i]['Region'] = df_list[i]['Region'].str.strip()\n",
      "    df_list[i]['Region'] = df_list[i]['Region'].str.upper()\n",
      "    df_list[i]['Region'] = df_list[i]['Region'].map(transforms.get)   \n",
      "    df_list[i] = df_list[i][df_list[i]['Region'].notnull()] #throw away rows that don't contain a region\n",
      "\n",
      "    df_list[i]['Agegroup'] = df_list[i]['Agegroup'].str.strip()\n",
      "    df_list[i]['Agegroup'] = df_list[i]['Agegroup'].str.upper()\n",
      "    df_list[i]['Agegroup'] = df_list[i]['Agegroup'].map(transforms.get)\n",
      "\n",
      "    df_list[i] = df_list[i].dropna(axis=1, how='all') #throw away columns that don't contain data\n",
      "    \n",
      "    df_list[i] = pd.melt(df_list[i], id_vars=['Region', 'Agegroup'])\n",
      "    \n",
      "    df_list[i]['variable'] = df_list[i]['variable'].convert_objects(convert_numeric=True)\n",
      "    \n",
      "    df_list[i]['Sex'] = df_list[i]['variable'].map(sex)\n",
      "    \n",
      "    df_list[i]['variable'] = df_list[i]['variable'].astype(int) #convert year to int\n",
      "    \n",
      "    df_list[i].rename(columns={'variable':'Year'}, inplace=True)\n",
      "    \n",
      "    df_list[i].rename(columns={'value':'Deaths'}, inplace=True)\n",
      "    \n",
      "    df_list[i] = df_list[i][['Region', 'Agegroup', 'Deaths', 'Sex', 'Year']]\n",
      "    \n",
      "    df_list[i]['Cause'] = dis_lookup[sheets[i]['Name']]\n",
      "    \n",
      "        \n",
      "   "
     ],
     "language": "python",
     "metadata": {},
     "outputs": [
      {
       "output_type": "stream",
       "stream": "stderr",
       "text": [
        "-c:9: SettingWithCopyWarning: A value is trying to be set on a copy of a slice from a DataFrame.\n",
        "Try using .loc[row_index,col_indexer] = value instead\n",
        "-c:10: SettingWithCopyWarning: A value is trying to be set on a copy of a slice from a DataFrame.\n",
        "Try using .loc[row_index,col_indexer] = value instead\n",
        "-c:11: SettingWithCopyWarning: A value is trying to be set on a copy of a slice from a DataFrame.\n",
        "Try using .loc[row_index,col_indexer] = value instead\n"
       ]
      }
     ],
     "prompt_number": 6
    },
    {
     "cell_type": "code",
     "collapsed": false,
     "input": [
      "mesocorrection = pd.read_csv('.././data/eng/mesocorrection.csv')\n",
      "mesocorrection.Year = mesocorrection.Year.astype(int)\n",
      "mesocorrection.index = mesocorrection.Year\n",
      "mesocorrection_lookup = mesocorrection['Meso correction factor'].to_dict()\n",
      "#df['Deaths'] = (df['Deaths'] / df['Year'].map(lambda x: mesocorrection_lookup[x])) * 100"
     ],
     "language": "python",
     "metadata": {},
     "outputs": [],
     "prompt_number": 7
    },
    {
     "cell_type": "code",
     "collapsed": false,
     "input": [
      "#get corrective factor from year using mesocorrection lookup\n",
      "#apply corrective factor to convert Pulmonary Mesothelioma Deaths to All Mesothelioma\n",
      "#rename to All Mesothelioma to reflect conversion\n",
      "#throw away data for 2001 onwards because we'll use table 7 for that\n",
      "\n",
      "df_list[2]['Deaths'] = (df_list[2]['Deaths'] / df_list[2]['Year'].map(mesocorrection_lookup.get)) * 100\n",
      "df_list[5]['Deaths'] = (df_list[5]['Deaths'] / df_list[5]['Year'].map(mesocorrection_lookup.get)) * 100\n",
      "\n",
      "df_list[2]['Cause'] = df_list[2]['Cause'].str.replace('Pulmonary Mesothelioma', 'All Mesothelioma')\n",
      "df_list[5]['Cause'] = df_list[5]['Cause'].str.replace('Pulmonary Mesothelioma', 'All Mesothelioma')\n",
      "\n",
      "df_list[2] = df_list[2][df_list[2]['Year'] < 2001]\n",
      "df_list[5] = df_list[5][df_list[5]['Year'] < 2001]"
     ],
     "language": "python",
     "metadata": {},
     "outputs": [],
     "prompt_number": 8
    },
    {
     "cell_type": "code",
     "collapsed": false,
     "input": [
      "df = pd.concat(df_list) #combine sheets \n",
      "df['Year'] = df['Year'].astype(int)\n",
      "df['Year'] = pd.to_datetime(df['Year'], format='%Y')\n",
      "ons1 = df #save result\n",
      "#df['Country'] = 'England & Wales' #add a label for country\n"
     ],
     "language": "python",
     "metadata": {},
     "outputs": [],
     "prompt_number": 9
    },
    {
     "cell_type": "code",
     "collapsed": false,
     "input": [
      "df.to_pickle('./../data/pickle/pypf.pkl')"
     ],
     "language": "python",
     "metadata": {},
     "outputs": [],
     "prompt_number": 10
    },
    {
     "cell_type": "code",
     "collapsed": false,
     "input": [],
     "language": "python",
     "metadata": {},
     "outputs": [],
     "prompt_number": 10
    },
    {
     "cell_type": "code",
     "collapsed": false,
     "input": [],
     "language": "python",
     "metadata": {},
     "outputs": []
    }
   ],
   "metadata": {}
  }
 ]
}