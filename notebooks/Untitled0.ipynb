{
 "metadata": {
  "name": "",
  "signature": "sha256:cf5c40bccf3a4a35b941c255ec4f14db5aef4282ab9b2ac6ca5bc2e6cece7770"
 },
 "nbformat": 3,
 "nbformat_minor": 0,
 "worksheets": []
}