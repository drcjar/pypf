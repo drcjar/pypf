{
 "metadata": {
  "name": "",
  "signature": "sha256:a2b5c71a80dec3093f209d17891efb694e593032e6fddcddb40ec60fc663c8fc"
 },
 "nbformat": 3,
 "nbformat_minor": 0,
 "worksheets": [
  {
   "cells": [
    {
     "cell_type": "heading",
     "level": 3,
     "metadata": {},
     "source": [
      "Lets prepare the data for analysis some more"
     ]
    },
    {
     "cell_type": "code",
     "collapsed": false,
     "input": [
      "import pandas as pd\n",
      "from pandas import Series, DataFrame, Panel\n",
      "import pickle"
     ],
     "language": "python",
     "metadata": {},
     "outputs": [],
     "prompt_number": 9
    },
    {
     "cell_type": "code",
     "collapsed": false,
     "input": [
      "pypf = pd.read_pickle('.././data/pickle/pypf.pkl')\n",
      "pypop = pd.read_pickle('.././data/pickle/pypop.pkl')\n",
      "df = pd.merge(pypf, pypop)"
     ],
     "language": "python",
     "metadata": {},
     "outputs": [],
     "prompt_number": 10
    },
    {
     "cell_type": "code",
     "collapsed": false,
     "input": [
      "mesocorrection = pd.read_csv('.././data/eng/mesocorrection.csv')\n",
      "mesocorrection['Year'] = pd.to_datetime(mesocorrection['Year'])\n",
      "mesocorrection.index = mesocorrection.Year\n",
      "mesocorrection_lookup = mesocorrection.to_dict()\n",
      "mesocorrection_lookup = mesocorrection_lookup['Meso correction factor']"
     ],
     "language": "python",
     "metadata": {},
     "outputs": [],
     "prompt_number": 11
    },
    {
     "cell_type": "code",
     "collapsed": false,
     "input": [
      "df_male = df[df['Sex'] == 'Male']\n",
      "\n",
      "standpop08 = df_male[df_male['Year'] == pd.to_datetime('2008')]\n",
      "\n",
      "wholeref = Series(standpop08.Population.values, index=standpop08.Agegroup).to_dict()\n",
      "\n",
      "neref = Series(standpop08[standpop08['Region'] == 'NORTH EAST'].Population.values, index=standpop08[standpop08['Region'] == 'NORTH EAST'].Agegroup).to_dict()\n",
      "yhref = Series(standpop08[standpop08['Region'] == 'YORKSHIRE AND THE HUMBER'].Population.values, index=standpop08[standpop08['Region'] == 'YORKSHIRE AND THE HUMBER'].Agegroup).to_dict()\n",
      "nwref = Series(standpop08[standpop08['Region'] == 'NORTH WEST'].Population.values, index=standpop08[standpop08['Region'] == 'NORTH WEST'].Agegroup).to_dict()\n",
      "emref = Series(standpop08[standpop08['Region'] == 'EAST MIDLANDS'].Population.values, index=standpop08[standpop08['Region'] == 'EAST MIDLANDS'].Agegroup).to_dict()\n",
      "wmref = Series(standpop08[standpop08['Region'] == 'WEST MIDLANDS'].Population.values, index=standpop08[standpop08['Region'] == 'WEST MIDLANDS'].Agegroup).to_dict()\n",
      "eeref = Series(standpop08[standpop08['Region'] == 'EAST'].Population.values, index=standpop08[standpop08['Region'] == 'EAST'].Agegroup).to_dict()\n",
      "seref = Series(standpop08[standpop08['Region'] == 'SOUTH EAST'].Population.values, index=standpop08[standpop08['Region'] == 'SOUTH EAST'].Agegroup).to_dict()\n",
      "swref = Series(standpop08[standpop08['Region'] == 'SOUTH WEST'].Population.values, index=standpop08[standpop08['Region'] == 'SOUTH WEST'].Agegroup).to_dict()\n",
      "wwref = Series(standpop08[standpop08['Region'] == 'WALES'].Population.values, index=standpop08[standpop08['Region'] == 'WALES'].Agegroup).to_dict()\n",
      "llref = Series(standpop08[standpop08['Region'] == 'LONDON'].Population.values, index=standpop08[standpop08['Region'] == 'LONDON'].Agegroup).to_dict()\n",
      "\n",
      "ref_list = (neref, yhref, nwref, emref, wmref, eeref, seref, swref, wwref, llref)\n",
      "\n",
      "\n",
      "ne = df_male[df_male['Region'] == 'NORTH EAST']\n",
      "yh = df_male[df_male['Region'] == 'YORKSHIRE AND THE HUMBER']\n",
      "nw = df_male[df_male['Region'] == 'NORTH WEST']\n",
      "em = df_male[df_male['Region'] == 'EAST MIDLANDS']\n",
      "wm = df_male[df_male['Region'] == 'WEST MIDLANDS']\n",
      "ee = df_male[df_male['Region'] == 'EAST']\n",
      "se = df_male[df_male['Region'] == 'SOUTH EAST']\n",
      "sw = df_male[df_male['Region'] == 'SOUTH WEST']\n",
      "ww = df_male[df_male['Region'] == 'WALES']\n",
      "ll = df_male[df_male['Region'] == 'LONDON']\n",
      "\n",
      "reg_list = (ne, yh, nw, em, wm, ee, se, sw, ww, ll)\n",
      "\n",
      "\n",
      "for i, item in enumerate(reg_list):\n",
      "    reg_list[i]['2008 population'] = reg_list[i]['Agegroup'].map(lambda x: ref_list[i][x] )\n",
      "    \n",
      "df1 = pd.concat(reg_list)\n",
      "\n",
      "df_female = df[df['Sex'] == 'Female']\n",
      "\n",
      "standpop08 = df_female[df_female['Year'] == pd.to_datetime('2008')]\n",
      "\n",
      "neref = Series(standpop08[standpop08['Region'] == 'NORTH EAST'].Population.values, index=standpop08[standpop08['Region'] == 'NORTH EAST'].Agegroup).to_dict()\n",
      "yhref = Series(standpop08[standpop08['Region'] == 'YORKSHIRE AND THE HUMBER'].Population.values, index=standpop08[standpop08['Region'] == 'YORKSHIRE AND THE HUMBER'].Agegroup).to_dict()\n",
      "nwref = Series(standpop08[standpop08['Region'] == 'NORTH WEST'].Population.values, index=standpop08[standpop08['Region'] == 'NORTH WEST'].Agegroup).to_dict()\n",
      "emref = Series(standpop08[standpop08['Region'] == 'EAST MIDLANDS'].Population.values, index=standpop08[standpop08['Region'] == 'EAST MIDLANDS'].Agegroup).to_dict()\n",
      "wmref = Series(standpop08[standpop08['Region'] == 'WEST MIDLANDS'].Population.values, index=standpop08[standpop08['Region'] == 'WEST MIDLANDS'].Agegroup).to_dict()\n",
      "eeref = Series(standpop08[standpop08['Region'] == 'EAST'].Population.values, index=standpop08[standpop08['Region'] == 'EAST'].Agegroup).to_dict()\n",
      "seref = Series(standpop08[standpop08['Region'] == 'SOUTH EAST'].Population.values, index=standpop08[standpop08['Region'] == 'SOUTH EAST'].Agegroup).to_dict()\n",
      "swref = Series(standpop08[standpop08['Region'] == 'SOUTH WEST'].Population.values, index=standpop08[standpop08['Region'] == 'SOUTH WEST'].Agegroup).to_dict()\n",
      "wwref = Series(standpop08[standpop08['Region'] == 'WALES'].Population.values, index=standpop08[standpop08['Region'] == 'WALES'].Agegroup).to_dict()\n",
      "llref = Series(standpop08[standpop08['Region'] == 'LONDON'].Population.values, index=standpop08[standpop08['Region'] == 'LONDON'].Agegroup).to_dict()\n",
      "\n",
      "ref_list = (neref, yhref, nwref, emref, wmref, eeref, seref, swref, wwref, llref)\n",
      "\n",
      "\n",
      "ne = df_female[df_female['Region'] == 'NORTH EAST']\n",
      "yh = df_female[df_female['Region'] == 'YORKSHIRE AND THE HUMBER']\n",
      "nw = df_female[df_female['Region'] == 'NORTH WEST']\n",
      "em = df_female[df_female['Region'] == 'EAST MIDLANDS']\n",
      "wm = df_female[df_female['Region'] == 'WEST MIDLANDS']\n",
      "ee = df_female[df_female['Region'] == 'EAST']\n",
      "se = df_female[df_female['Region'] == 'SOUTH EAST']\n",
      "sw = df_female[df_female['Region'] == 'SOUTH WEST']\n",
      "ww = df_female[df_female['Region'] == 'WALES']\n",
      "ll = df_female[df_female['Region'] == 'LONDON']\n",
      "\n",
      "\n",
      "reg_list = (ne, yh, nw, em, wm, ee, se, sw, ww, ll)\n",
      "\n",
      "for i, item in enumerate(reg_list):\n",
      "    reg_list[i]['2008 population'] = reg_list[i]['Agegroup'].map(lambda x: ref_list[i][x] )\n",
      "    \n",
      "df2 = pd.concat(reg_list)\n",
      "\n",
      "df_list = [df1, df2]\n",
      "df = pd.concat(df_list)"
     ],
     "language": "python",
     "metadata": {},
     "outputs": [],
     "prompt_number": 12
    },
    {
     "cell_type": "code",
     "collapsed": false,
     "input": [
      "df['Rate per 100,000 population'] = (df['Deaths'] / df['Population']) * 100000\n",
      "#df1 = df[df['Agegroup'] != 'ALL AGES'] #lets throw away all ages rows\n",
      "df['Estimated deaths age standardised to 2008 population'] = (df['2008 population'] / 100000) * df['Rate per 100,000 population']"
     ],
     "language": "python",
     "metadata": {},
     "outputs": [],
     "prompt_number": 13
    },
    {
     "cell_type": "code",
     "collapsed": false,
     "input": [
      "df['Corrected Meso Deaths'] = (df['Estimated deaths age standardised to 2008 population'] / df['Year'].map(lambda x: mesocorrection_lookup[x])) * 100"
     ],
     "language": "python",
     "metadata": {},
     "outputs": [],
     "prompt_number": 14
    },
    {
     "cell_type": "code",
     "collapsed": false,
     "input": [
      "df['Corrected Meso Deaths per 100,000 (standardised)'] = (df['Corrected Meso Deaths'] / df['2008 population']) * 100000\n",
      "df['Rate per 100,000 (standardised)'] = (df['Estimated deaths age standardised to 2008 population'] / df['2008 population']) * 100000                                                          "
     ],
     "language": "python",
     "metadata": {},
     "outputs": [],
     "prompt_number": 15
    },
    {
     "cell_type": "code",
     "collapsed": false,
     "input": [
      "df.to_pickle('.././data/pickle/pypf_prep.pkl')"
     ],
     "language": "python",
     "metadata": {},
     "outputs": [],
     "prompt_number": 16
    },
    {
     "cell_type": "code",
     "collapsed": false,
     "input": [
      "regpop = df[(df['Agegroup'] == 'ALL AGES') & (df['Year'] == pd.to_datetime('1979'))].groupby('Region').Population.sum()\n",
      "regpop.sort()\n",
      "regpop.values.sum() / 3"
     ],
     "language": "python",
     "metadata": {},
     "outputs": [
      {
       "metadata": {},
       "output_type": "pyout",
       "prompt_number": 18,
       "text": [
        "49508200.0"
       ]
      }
     ],
     "prompt_number": 18
    },
    {
     "cell_type": "code",
     "collapsed": false,
     "input": [],
     "language": "python",
     "metadata": {},
     "outputs": []
    }
   ],
   "metadata": {}
  }
 ]
}