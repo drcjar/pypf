{
 "metadata": {
  "name": "",
  "signature": "sha256:828217ae19957b3b295d0afdc78020111ddcc046b62389f33a9a4c97fa31d01d"
 },
 "nbformat": 3,
 "nbformat_minor": 0,
 "worksheets": [
  {
   "cells": [
    {
     "cell_type": "code",
     "collapsed": false,
     "input": [
      "%matplotlib inline\n",
      "import pandas as pd\n",
      "from pandas import DataFrame\n",
      "import pickle\n",
      "import folium\n",
      "from IPython import display\n"
     ],
     "language": "python",
     "metadata": {},
     "outputs": [],
     "prompt_number": 1
    },
    {
     "cell_type": "code",
     "collapsed": false,
     "input": [
      "df = pd.read_pickle('.././data/pickle/pypf_prep.pkl')\n",
      "regionlookup = pd.read_csv('.././data/maps/oldnewlookupregions.csv', names=['GOR10CD', 'Area_code', 'Region'])\n",
      "regionlookup['Region'] = regionlookup['Region'].str.upper()\n",
      "regionlookup['Region'] = regionlookup['Region'].str.strip()\n",
      "regionlookup['Region'] = regionlookup['Region'].str.replace('EAST OF ENGLAND', 'EAST')\n",
      "#or_geo = '.././data/maps/gor.json'"
     ],
     "language": "python",
     "metadata": {},
     "outputs": [],
     "prompt_number": 92
    },
    {
     "cell_type": "code",
     "collapsed": false,
     "input": [
      "grp = df[(df['Cause'] == 'IPF') & (df['Sex'] == 'Male')].groupby('Region')['Rate per 100,000 (standardised)'].mean()\n",
      "grp.sort()\n",
      "grp = DataFrame(grp).reset_index()\n"
     ],
     "language": "python",
     "metadata": {},
     "outputs": [],
     "prompt_number": 95
    },
    {
     "cell_type": "code",
     "collapsed": false,
     "input": [
      "df = pd.merge(grp, regionlookup, on='Region')"
     ],
     "language": "python",
     "metadata": {},
     "outputs": [],
     "prompt_number": 97
    },
    {
     "cell_type": "code",
     "collapsed": false,
     "input": [
      "df = df[df['Region'] != 'WALES']\n",
      "df = df[['GOR10CD', 'Rate per 100,000 (standardised)']]"
     ],
     "language": "python",
     "metadata": {},
     "outputs": [],
     "prompt_number": 99
    },
    {
     "cell_type": "code",
     "collapsed": false,
     "input": [
      "df['Rate'] = df['Rate per 100,000 (standardised)']"
     ],
     "language": "python",
     "metadata": {},
     "outputs": [],
     "prompt_number": 101
    },
    {
     "cell_type": "code",
     "collapsed": false,
     "input": [
      "df"
     ],
     "language": "python",
     "metadata": {},
     "outputs": [
      {
       "html": [
        "<div style=\"max-height:1000px;max-width:1500px;overflow:auto;\">\n",
        "<table border=\"1\" class=\"dataframe\">\n",
        "  <thead>\n",
        "    <tr style=\"text-align: right;\">\n",
        "      <th></th>\n",
        "      <th>GOR10CD</th>\n",
        "      <th>Rate per 100,000 (standardised)</th>\n",
        "      <th>Rate</th>\n",
        "    </tr>\n",
        "  </thead>\n",
        "  <tbody>\n",
        "    <tr>\n",
        "      <th>0</th>\n",
        "      <td> E12000006</td>\n",
        "      <td> 11.214911</td>\n",
        "      <td> 11.214911</td>\n",
        "    </tr>\n",
        "    <tr>\n",
        "      <th>1</th>\n",
        "      <td> E12000008</td>\n",
        "      <td> 11.724135</td>\n",
        "      <td> 11.724135</td>\n",
        "    </tr>\n",
        "    <tr>\n",
        "      <th>2</th>\n",
        "      <td> E12000007</td>\n",
        "      <td> 12.002747</td>\n",
        "      <td> 12.002747</td>\n",
        "    </tr>\n",
        "    <tr>\n",
        "      <th>3</th>\n",
        "      <td> E12000009</td>\n",
        "      <td> 12.740111</td>\n",
        "      <td> 12.740111</td>\n",
        "    </tr>\n",
        "    <tr>\n",
        "      <th>4</th>\n",
        "      <td> E12000003</td>\n",
        "      <td> 12.763510</td>\n",
        "      <td> 12.763510</td>\n",
        "    </tr>\n",
        "    <tr>\n",
        "      <th>5</th>\n",
        "      <td> E12000004</td>\n",
        "      <td> 12.919534</td>\n",
        "      <td> 12.919534</td>\n",
        "    </tr>\n",
        "    <tr>\n",
        "      <th>6</th>\n",
        "      <td> E12000005</td>\n",
        "      <td> 13.277687</td>\n",
        "      <td> 13.277687</td>\n",
        "    </tr>\n",
        "    <tr>\n",
        "      <th>8</th>\n",
        "      <td> E12000001</td>\n",
        "      <td> 14.887633</td>\n",
        "      <td> 14.887633</td>\n",
        "    </tr>\n",
        "    <tr>\n",
        "      <th>9</th>\n",
        "      <td> E12000002</td>\n",
        "      <td> 15.200417</td>\n",
        "      <td> 15.200417</td>\n",
        "    </tr>\n",
        "  </tbody>\n",
        "</table>\n",
        "</div>"
       ],
       "metadata": {},
       "output_type": "pyout",
       "prompt_number": 102,
       "text": [
        "     GOR10CD  Rate per 100,000 (standardised)       Rate\n",
        "0  E12000006                        11.214911  11.214911\n",
        "1  E12000008                        11.724135  11.724135\n",
        "2  E12000007                        12.002747  12.002747\n",
        "3  E12000009                        12.740111  12.740111\n",
        "4  E12000003                        12.763510  12.763510\n",
        "5  E12000004                        12.919534  12.919534\n",
        "6  E12000005                        13.277687  13.277687\n",
        "8  E12000001                        14.887633  14.887633\n",
        "9  E12000002                        15.200417  15.200417"
       ]
      }
     ],
     "prompt_number": 102
    },
    {
     "cell_type": "code",
     "collapsed": false,
     "input": [
      "map = folium.Map(location=[54.2, -2.45], zoom_start=5)\n",
      "map.geo_json(geo_path='gor.json', data_out='GorIPF.json', data=df,\n",
      "      columns=['GOR10CD', 'Rate'],\n",
      "      key_on='feature.properties.GOR10CD',\n",
      "      fill_color='PuBu', fill_opacity=0.7, line_opacity=0.3,\n",
      "      legend_name='Male IPF deaths by region per 100,000 population (1975-2012)')\n",
      "map.create_map(path'GGORIpfDeath_per100000.html')\n",
      "\n",
      "# python -m SimpleHTTPServer 8015 for local viewing"
     ],
     "language": "python",
     "metadata": {},
     "outputs": [],
     "prompt_number": 113
    },
    {
     "cell_type": "code",
     "collapsed": false,
     "input": [
      "ls"
     ],
     "language": "python",
     "metadata": {},
     "outputs": [
      {
       "output_type": "stream",
       "stream": "stdout",
       "text": [
        "data10.json  pypf_analysis.ipynb  pypf_maps.ipynb     pypf_prep.ipynb\r\n",
        "map_10.html  pypf.ipynb           pypf_poisson.ipynb  pypop.ipynb\r\n"
       ]
      }
     ],
     "prompt_number": 6
    },
    {
     "cell_type": "code",
     "collapsed": false,
     "input": [
      "from IPython.display import HTML\n"
     ],
     "language": "python",
     "metadata": {},
     "outputs": [],
     "prompt_number": 2
    },
    {
     "cell_type": "code",
     "collapsed": false,
     "input": [
      "HTML('<iframe src=http://en.mobile.wikipedia.org/?useformat=mobile width=700 height=350></iframe>')\n"
     ],
     "language": "python",
     "metadata": {},
     "outputs": [
      {
       "html": [
        "<iframe src=http://en.mobile.wikipedia.org/?useformat=mobile width=700 height=350></iframe>"
       ],
       "metadata": {},
       "output_type": "pyout",
       "prompt_number": 5,
       "text": [
        "<IPython.core.display.HTML at 0x3b50dd0>"
       ]
      }
     ],
     "prompt_number": 5
    },
    {
     "cell_type": "code",
     "collapsed": false,
     "input": [],
     "language": "python",
     "metadata": {},
     "outputs": []
    }
   ],
   "metadata": {}
  }
 ]
}