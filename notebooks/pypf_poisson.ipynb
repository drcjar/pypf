{
 "metadata": {
  "name": "",
  "signature": "sha256:56c92377417c43c78cfd754dc2025fbb7da8b509b2c53812d1bd409af549690e"
 },
 "nbformat": 3,
 "nbformat_minor": 0,
 "worksheets": [
  {
   "cells": [
    {
     "cell_type": "code",
     "collapsed": false,
     "input": [
      "import pandas as pd\n",
      "from pandas import DataFrame\n",
      "import pickle\n",
      "import statsmodels.api as sm\n",
      "from patsy import dmatrices, dmatrix"
     ],
     "language": "python",
     "metadata": {},
     "outputs": [],
     "prompt_number": 1
    },
    {
     "cell_type": "code",
     "collapsed": false,
     "input": [
      "df = pd.read_pickle('.././data/pickle/pypf_prep.pkl')\n",
      "df = df[df['Agegroup'] != 'ALL AGES'] #lets throw away all ages rows\n"
     ],
     "language": "python",
     "metadata": {},
     "outputs": [],
     "prompt_number": 2
    },
    {
     "cell_type": "code",
     "collapsed": false,
     "input": [
      "def model(cause, df):\n",
      "    \n",
      "    df = df[df['Cause'] == cause]\n",
      "    #df = df[df['Sex'] == 'Male'] #uncomment to limit analysis to males\n",
      "    \n",
      "    df['Count'] = df['Deaths']\n",
      "    \n",
      "    exposure_array = df['Population'].values\n",
      "    \n",
      "    df = df[['Count', 'Agegroup', 'Sex', 'Region']] #get rid of extraneous stuff\n",
      "    \n",
      "    y, X = dmatrices('Count ~ C(Agegroup) + C(Sex) + C(Region)', data=df, return_type='dataframe') \n",
      "    \n",
      "    mod = sm.Poisson(y, X, exposure=exposure_array) #http://statsmodels.sourceforge.net/devel/endog_exog.html\n",
      "    \n",
      "    res = mod.fit(maxiter=100)\n",
      "\n",
      "    return res\n",
      "\n",
      "\n"
     ],
     "language": "python",
     "metadata": {},
     "outputs": [],
     "prompt_number": 3
    },
    {
     "cell_type": "code",
     "collapsed": false,
     "input": [
      "results = {}\n",
      "for cause in df.Cause.unique():\n",
      "        res = model(cause,df)\n",
      "        results[cause] = res"
     ],
     "language": "python",
     "metadata": {},
     "outputs": [
      {
       "output_type": "stream",
       "stream": "stdout",
       "text": [
        "Optimization terminated successfully.\n",
        "         Current function value: 2.898808\n",
        "         Iterations 21\n",
        "Optimization terminated successfully."
       ]
      },
      {
       "output_type": "stream",
       "stream": "stdout",
       "text": [
        "\n",
        "         Current function value: 3.175772\n",
        "         Iterations 22\n",
        "Optimization terminated successfully."
       ]
      },
      {
       "output_type": "stream",
       "stream": "stdout",
       "text": [
        "\n",
        "         Current function value: 0.870333\n",
        "         Iterations 21\n"
       ]
      }
     ],
     "prompt_number": 4
    },
    {
     "cell_type": "code",
     "collapsed": false,
     "input": [
      "cols = {}\n",
      "\n",
      "for cause in df.Cause.unique():\n",
      "    cols[cause] = np.exp(results[cause].params) \n",
      "    \n",
      "df1 = DataFrame(cols)\n",
      "\n",
      "result = df1.sort(['IPF'], ascending=[0]) #lets arrange the regions by the incidence of IPF, highest first\n",
      "\n",
      "result = result[['IPF', 'All Mesothelioma', 'Asbestosis']][7:16] #lets have a look at the regions\n",
      "\n",
      "#nb EAST is '1'"
     ],
     "language": "python",
     "metadata": {},
     "outputs": [],
     "prompt_number": 5
    },
    {
     "cell_type": "code",
     "collapsed": false,
     "input": [
      "result[['IPF', 'All Mesothelioma', 'Asbestosis']]"
     ],
     "language": "python",
     "metadata": {},
     "outputs": [
      {
       "html": [
        "<div style=\"max-height:1000px;max-width:1500px;overflow:auto;\">\n",
        "<table border=\"1\" class=\"dataframe\">\n",
        "  <thead>\n",
        "    <tr style=\"text-align: right;\">\n",
        "      <th></th>\n",
        "      <th>IPF</th>\n",
        "      <th>All Mesothelioma</th>\n",
        "      <th>Asbestosis</th>\n",
        "    </tr>\n",
        "  </thead>\n",
        "  <tbody>\n",
        "    <tr>\n",
        "      <th>C(Region)[T.NORTH WEST]</th>\n",
        "      <td> 1.303900</td>\n",
        "      <td> 0.987568</td>\n",
        "      <td> 2.276488</td>\n",
        "    </tr>\n",
        "    <tr>\n",
        "      <th>C(Region)[T.WALES]</th>\n",
        "      <td> 1.283289</td>\n",
        "      <td> 0.613562</td>\n",
        "      <td> 1.086402</td>\n",
        "    </tr>\n",
        "    <tr>\n",
        "      <th>C(Region)[T.NORTH EAST]</th>\n",
        "      <td> 1.239368</td>\n",
        "      <td> 1.710220</td>\n",
        "      <td> 5.699712</td>\n",
        "    </tr>\n",
        "    <tr>\n",
        "      <th>C(Region)[T.WEST MIDLANDS]</th>\n",
        "      <td> 1.201513</td>\n",
        "      <td> 0.761154</td>\n",
        "      <td> 1.187707</td>\n",
        "    </tr>\n",
        "    <tr>\n",
        "      <th>C(Region)[T.EAST MIDLANDS]</th>\n",
        "      <td> 1.162599</td>\n",
        "      <td> 0.782949</td>\n",
        "      <td> 1.397579</td>\n",
        "    </tr>\n",
        "    <tr>\n",
        "      <th>C(Region)[T.YORKSHIRE AND THE HUMBER]</th>\n",
        "      <td> 1.108745</td>\n",
        "      <td> 1.104215</td>\n",
        "      <td> 1.615266</td>\n",
        "    </tr>\n",
        "    <tr>\n",
        "      <th>C(Region)[T.SOUTH WEST]</th>\n",
        "      <td> 1.095977</td>\n",
        "      <td> 0.865598</td>\n",
        "      <td> 1.809654</td>\n",
        "    </tr>\n",
        "    <tr>\n",
        "      <th>C(Region)[T.LONDON]</th>\n",
        "      <td> 1.009115</td>\n",
        "      <td> 0.996979</td>\n",
        "      <td> 2.146462</td>\n",
        "    </tr>\n",
        "    <tr>\n",
        "      <th>C(Region)[T.SOUTH EAST]</th>\n",
        "      <td> 0.902522</td>\n",
        "      <td> 0.952437</td>\n",
        "      <td> 1.314366</td>\n",
        "    </tr>\n",
        "  </tbody>\n",
        "</table>\n",
        "</div>"
       ],
       "metadata": {},
       "output_type": "pyout",
       "prompt_number": 6,
       "text": [
        "                                            IPF  All Mesothelioma  Asbestosis\n",
        "C(Region)[T.NORTH WEST]                1.303900          0.987568    2.276488\n",
        "C(Region)[T.WALES]                     1.283289          0.613562    1.086402\n",
        "C(Region)[T.NORTH EAST]                1.239368          1.710220    5.699712\n",
        "C(Region)[T.WEST MIDLANDS]             1.201513          0.761154    1.187707\n",
        "C(Region)[T.EAST MIDLANDS]             1.162599          0.782949    1.397579\n",
        "C(Region)[T.YORKSHIRE AND THE HUMBER]  1.108745          1.104215    1.615266\n",
        "C(Region)[T.SOUTH WEST]                1.095977          0.865598    1.809654\n",
        "C(Region)[T.LONDON]                    1.009115          0.996979    2.146462\n",
        "C(Region)[T.SOUTH EAST]                0.902522          0.952437    1.314366"
       ]
      }
     ],
     "prompt_number": 6
    },
    {
     "cell_type": "code",
     "collapsed": false,
     "input": [
      "print '\\nIPF \\n'\n",
      "print results['IPF'].summary()\n",
      "             \n",
      "print '\\nAsbestosis \\n'\n",
      "print results['Asbestosis'].summary()\n",
      "\n",
      "print '\\nAll Mesothelioma \\n'\n",
      "print results['All Mesothelioma'].summary()\n",
      "\n"
     ],
     "language": "python",
     "metadata": {},
     "outputs": [
      {
       "output_type": "stream",
       "stream": "stdout",
       "text": [
        "\n",
        "IPF \n",
        "\n",
        "                          Poisson Regression Results                          \n",
        "==============================================================================\n",
        "Dep. Variable:                  Count   No. Observations:                 6100\n",
        "Model:                        Poisson   Df Residuals:                     6082\n",
        "Method:                           MLE   Df Model:                           17\n",
        "Date:                Fri, 22 Aug 2014   Pseudo R-squ.:                  0.7529\n",
        "Time:                        17:43:36   Log-Likelihood:                -17683.\n",
        "converged:                       True   LL-Null:                       -71553.\n",
        "                                        LLR p-value:                     0.000\n",
        "=========================================================================================================\n",
        "                                            coef    std err          z      P>|z|      [95.0% Conf. Int.]\n",
        "---------------------------------------------------------------------------------------------------------\n",
        "Intercept                               -15.1589      0.086   -176.978      0.000       -15.327   -14.991\n",
        "C(Agegroup)[T.35-44]                      1.1766      0.097     12.116      0.000         0.986     1.367\n",
        "C(Agegroup)[T.45-54]                      2.6619      0.088     30.308      0.000         2.490     2.834\n",
        "C(Agegroup)[T.55-64]                      4.1842      0.085     49.025      0.000         4.017     4.351\n",
        "C(Agegroup)[T.65-74]                      5.4336      0.085     64.056      0.000         5.267     5.600\n",
        "C(Agegroup)[T.75-84]                      6.3305      0.085     74.699      0.000         6.164     6.497\n",
        "C(Agegroup)[T.85+]                        6.8072      0.085     80.047      0.000         6.641     6.974\n",
        "C(Agegroup)[T.UNDER 25]                  -0.8688      0.120     -7.269      0.000        -1.103    -0.635\n",
        "C(Sex)[T.Male]                            0.8920      0.008    111.359      0.000         0.876     0.908\n",
        "C(Region)[T.EAST MIDLANDS]                0.1507      0.019      8.033      0.000         0.114     0.187\n",
        "C(Region)[T.LONDON]                       0.0091      0.018      0.493      0.622        -0.027     0.045\n",
        "C(Region)[T.NORTH EAST]                   0.2146      0.021     10.276      0.000         0.174     0.256\n",
        "C(Region)[T.NORTH WEST]                   0.2654      0.016     16.137      0.000         0.233     0.298\n",
        "C(Region)[T.SOUTH EAST]                  -0.1026      0.016     -6.237      0.000        -0.135    -0.070\n",
        "C(Region)[T.SOUTH WEST]                   0.0916      0.018      5.202      0.000         0.057     0.126\n",
        "C(Region)[T.WALES]                        0.2494      0.020     12.662      0.000         0.211     0.288\n",
        "C(Region)[T.WEST MIDLANDS]                0.1836      0.018     10.388      0.000         0.149     0.218\n",
        "C(Region)[T.YORKSHIRE AND THE HUMBER]     0.1032      0.018      5.708      0.000         0.068     0.139\n",
        "========================================================================================================="
       ]
      },
      {
       "output_type": "stream",
       "stream": "stdout",
       "text": [
        "\n",
        "\n",
        "Asbestosis \n",
        "\n",
        "                          Poisson Regression Results                          \n",
        "==============================================================================\n",
        "Dep. Variable:                  Count   No. Observations:                 3648\n",
        "Model:                        Poisson   Df Residuals:                     3632\n",
        "Method:                           MLE   Df Model:                           15\n",
        "Date:                Fri, 22 Aug 2014   Pseudo R-squ.:                  0.4447\n",
        "Time:                        17:43:36   Log-Likelihood:                -3175.0\n",
        "converged:                       True   LL-Null:                       -5717.5\n",
        "                                        LLR p-value:                     0.000\n",
        "=========================================================================================================\n",
        "                                            coef    std err          z      P>|z|      [95.0% Conf. Int.]\n",
        "---------------------------------------------------------------------------------------------------------\n",
        "Intercept                               -18.7570      0.395    -47.456      0.000       -19.532   -17.982\n",
        "C(Agegroup)[T.45-54]                      0.6111      0.399      1.531      0.126        -0.171     1.393\n",
        "C(Agegroup)[T.55-64]                      2.4171      0.382      6.321      0.000         1.668     3.167\n",
        "C(Agegroup)[T.65-74]                      3.6607      0.380      9.631      0.000         2.916     4.406\n",
        "C(Agegroup)[T.75-84]                      4.4767      0.380     11.783      0.000         3.732     5.221\n",
        "C(Agegroup)[T.85+]                        4.8308      0.383     12.624      0.000         4.081     5.581\n",
        "C(Sex)[T.Male]                            3.1257      0.079     39.703      0.000         2.971     3.280\n",
        "C(Region)[T.EAST MIDLANDS]                0.3347      0.113      2.961      0.003         0.113     0.556\n",
        "C(Region)[T.LONDON]                       0.7638      0.099      7.749      0.000         0.571     0.957\n",
        "C(Region)[T.NORTH EAST]                   1.7404      0.094     18.431      0.000         1.555     1.925\n",
        "C(Region)[T.NORTH WEST]                   0.8226      0.094      8.725      0.000         0.638     1.007\n",
        "C(Region)[T.SOUTH EAST]                   0.2734      0.096      2.838      0.005         0.085     0.462\n",
        "C(Region)[T.SOUTH WEST]                   0.5931      0.100      5.961      0.000         0.398     0.788\n",
        "C(Region)[T.WALES]                        0.0829      0.130      0.635      0.525        -0.173     0.339\n",
        "C(Region)[T.WEST MIDLANDS]                0.1720      0.111      1.543      0.123        -0.046     0.391\n",
        "C(Region)[T.YORKSHIRE AND THE HUMBER]     0.4795      0.104      4.615      0.000         0.276     0.683\n",
        "========================================================================================================="
       ]
      },
      {
       "output_type": "stream",
       "stream": "stdout",
       "text": [
        "\n",
        "\n",
        "All Mesothelioma \n",
        "\n",
        "                          Poisson Regression Results                          \n",
        "==============================================================================\n",
        "Dep. Variable:                  Count   No. Observations:                 5576\n",
        "Model:                        Poisson   Df Residuals:                     5558\n",
        "Method:                           MLE   Df Model:                           17\n",
        "Date:                Fri, 22 Aug 2014   Pseudo R-squ.:                  0.6836\n",
        "Time:                        17:43:36   Log-Likelihood:                -17708.\n",
        "converged:                       True   LL-Null:                       -55962.\n",
        "                                        LLR p-value:                     0.000\n",
        "=========================================================================================================\n",
        "                                            coef    std err          z      P>|z|      [95.0% Conf. Int.]\n",
        "---------------------------------------------------------------------------------------------------------\n",
        "Intercept                               -16.3931      0.115   -142.017      0.000       -16.619   -16.167\n",
        "C(Agegroup)[T.35-44]                      2.0682      0.121     17.130      0.000         1.832     2.305\n",
        "C(Agegroup)[T.45-54]                      3.7650      0.115     32.638      0.000         3.539     3.991\n",
        "C(Agegroup)[T.55-64]                      5.0860      0.114     44.467      0.000         4.862     5.310\n",
        "C(Agegroup)[T.65-74]                      5.7860      0.114     50.654      0.000         5.562     6.010\n",
        "C(Agegroup)[T.75-84]                      6.1624      0.114     53.908      0.000         5.938     6.386\n",
        "C(Agegroup)[T.85+]                        6.1026      0.116     52.803      0.000         5.876     6.329\n",
        "C(Agegroup)[T.UNDER 25]                  -1.7635      0.269     -6.544      0.000        -2.292    -1.235\n",
        "C(Sex)[T.Male]                            1.9372      0.013    148.771      0.000         1.912     1.963\n",
        "C(Region)[T.EAST MIDLANDS]               -0.2447      0.024    -10.187      0.000        -0.292    -0.198\n",
        "C(Region)[T.LONDON]                      -0.0030      0.021     -0.142      0.887        -0.045     0.039\n",
        "C(Region)[T.NORTH EAST]                   0.5366      0.022     24.567      0.000         0.494     0.579\n",
        "C(Region)[T.NORTH WEST]                  -0.0125      0.020     -0.627      0.531        -0.052     0.027\n",
        "C(Region)[T.SOUTH EAST]                  -0.0487      0.019     -2.594      0.009        -0.086    -0.012\n",
        "C(Region)[T.SOUTH WEST]                  -0.1443      0.022     -6.671      0.000        -0.187    -0.102\n",
        "C(Region)[T.WALES]                       -0.4885      0.029    -17.007      0.000        -0.545    -0.432\n",
        "C(Region)[T.WEST MIDLANDS]               -0.2729      0.023    -12.042      0.000        -0.317    -0.229\n",
        "C(Region)[T.YORKSHIRE AND THE HUMBER]     0.0991      0.021      4.755      0.000         0.058     0.140\n",
        "========================================================================================================="
       ]
      },
      {
       "output_type": "stream",
       "stream": "stdout",
       "text": [
        "\n"
       ]
      }
     ],
     "prompt_number": 7
    },
    {
     "cell_type": "code",
     "collapsed": false,
     "input": [
      "#todo - bin years into periods\n",
      "#read around poisson\n",
      "#see if stata gives same results with xi:poisson death i.sex i.age_g, e(pop) irr\n",
      "#make maps"
     ],
     "language": "python",
     "metadata": {},
     "outputs": [],
     "prompt_number": 8
    },
    {
     "cell_type": "code",
     "collapsed": false,
     "input": [
      "print df[df['Cause'] == 'All Mesothelioma'].Deaths.sum()\n",
      "print df[df['Cause'] == 'Asbestosis'].Deaths.sum()"
     ],
     "language": "python",
     "metadata": {},
     "outputs": [
      {
       "output_type": "stream",
       "stream": "stdout",
       "text": [
        "43993.8756962\n",
        "2784.0\n"
       ]
      }
     ],
     "prompt_number": 12
    }
   ],
   "metadata": {}
  }
 ]
}