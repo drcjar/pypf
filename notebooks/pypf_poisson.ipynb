{
 "metadata": {
  "name": "",
  "signature": "sha256:1f015687964be0fe40b8905739b5f803c4bab12d39075a4870c4c75d745b66f3"
 },
 "nbformat": 3,
 "nbformat_minor": 0,
 "worksheets": [
  {
   "cells": [
    {
     "cell_type": "code",
     "collapsed": false,
     "input": [
      "import pandas as pd\n",
      "from pandas import DataFrame\n",
      "import pickle\n",
      "import statsmodels.api as sm\n",
      "from patsy import dmatrices, dmatrix"
     ],
     "language": "python",
     "metadata": {},
     "outputs": [],
     "prompt_number": 1
    },
    {
     "cell_type": "code",
     "collapsed": false,
     "input": [
      "df = pd.read_pickle('.././data/pickle/pypf_prep.pkl')\n",
      "df = df[df['Agegroup'] != 'ALL AGES'] #lets throw away all ages rows\n"
     ],
     "language": "python",
     "metadata": {},
     "outputs": [],
     "prompt_number": 2
    },
    {
     "cell_type": "code",
     "collapsed": false,
     "input": [
      "df[['Deaths', 'Agegroup', 'Sex', 'Region']].head() #reminder of what the datas look like"
     ],
     "language": "python",
     "metadata": {},
     "outputs": [
      {
       "html": [
        "<div style=\"max-height:1000px;max-width:1500px;overflow:auto;\">\n",
        "<table border=\"1\" class=\"dataframe\">\n",
        "  <thead>\n",
        "    <tr style=\"text-align: right;\">\n",
        "      <th></th>\n",
        "      <th>Deaths</th>\n",
        "      <th>Agegroup</th>\n",
        "      <th>Sex</th>\n",
        "      <th>Region</th>\n",
        "    </tr>\n",
        "  </thead>\n",
        "  <tbody>\n",
        "    <tr>\n",
        "      <th>3</th>\n",
        "      <td> 0</td>\n",
        "      <td> UNDER 25</td>\n",
        "      <td> Male</td>\n",
        "      <td> NORTH EAST</td>\n",
        "    </tr>\n",
        "    <tr>\n",
        "      <th>4</th>\n",
        "      <td> 0</td>\n",
        "      <td>    25-34</td>\n",
        "      <td> Male</td>\n",
        "      <td> NORTH EAST</td>\n",
        "    </tr>\n",
        "    <tr>\n",
        "      <th>5</th>\n",
        "      <td> 0</td>\n",
        "      <td>    25-34</td>\n",
        "      <td> Male</td>\n",
        "      <td> NORTH EAST</td>\n",
        "    </tr>\n",
        "    <tr>\n",
        "      <th>6</th>\n",
        "      <td> 1</td>\n",
        "      <td>    35-44</td>\n",
        "      <td> Male</td>\n",
        "      <td> NORTH EAST</td>\n",
        "    </tr>\n",
        "    <tr>\n",
        "      <th>7</th>\n",
        "      <td> 0</td>\n",
        "      <td>    35-44</td>\n",
        "      <td> Male</td>\n",
        "      <td> NORTH EAST</td>\n",
        "    </tr>\n",
        "  </tbody>\n",
        "</table>\n",
        "</div>"
       ],
       "metadata": {},
       "output_type": "pyout",
       "prompt_number": 4,
       "text": [
        "   Deaths  Agegroup   Sex      Region\n",
        "3       0  UNDER 25  Male  NORTH EAST\n",
        "4       0     25-34  Male  NORTH EAST\n",
        "5       0     25-34  Male  NORTH EAST\n",
        "6       1     35-44  Male  NORTH EAST\n",
        "7       0     35-44  Male  NORTH EAST"
       ]
      }
     ],
     "prompt_number": 4
    },
    {
     "cell_type": "code",
     "collapsed": false,
     "input": [
      "def model(cause, df):\n",
      "    \n",
      "    df = df[df['Cause'] == cause]\n",
      "    #df = df[df['Sex'] == 'Male'] #uncomment to limit analysis to males\n",
      "    \n",
      "    df['Count'] = df['Deaths']\n",
      "    \n",
      "    exposure_array = df['Population'].values\n",
      "    \n",
      "    df = df[['Count', 'Agegroup', 'Sex', 'Region']] #get rid of extraneous stuff\n",
      "        \n",
      "    y, X = dmatrices('Count ~ C(Agegroup) + C(Sex) + C(Region)', data=df, return_type='dataframe') \n",
      "\n",
      "    mod = sm.Poisson(y, X, exposure=exposure_array) #http://statsmodels.sourceforge.net/devel/endog_exog.html\n",
      "    \n",
      "    res = mod.fit(maxiter=100)\n",
      "\n",
      "    return res\n",
      "\n",
      "\n"
     ],
     "language": "python",
     "metadata": {},
     "outputs": []
    },
    {
     "cell_type": "code",
     "collapsed": false,
     "input": [
      "results = {}\n",
      "for cause in df.Cause.unique():\n",
      "        res = model(cause,df)\n",
      "        results[cause] = res"
     ],
     "language": "python",
     "metadata": {},
     "outputs": []
    },
    {
     "cell_type": "code",
     "collapsed": false,
     "input": [
      "cols = {}\n",
      "\n",
      "for cause in df.Cause.unique():\n",
      "    cols[cause] = np.exp(results[cause].params) \n",
      "    \n",
      "df1 = DataFrame(cols)\n",
      "\n",
      "result = df1.sort(['IPF'], ascending=[0]) #lets arrange the regions by the incidence of IPF, highest first\n",
      "\n",
      "result = result[['IPF', 'All Mesothelioma', 'Asbestosis']][7:16] #lets have a look at the regions\n",
      "\n",
      "#nb EAST is '1'"
     ],
     "language": "python",
     "metadata": {},
     "outputs": []
    },
    {
     "cell_type": "code",
     "collapsed": false,
     "input": [
      "result[['IPF', 'All Mesothelioma', 'Asbestosis']]"
     ],
     "language": "python",
     "metadata": {},
     "outputs": []
    },
    {
     "cell_type": "code",
     "collapsed": false,
     "input": [
      "print '\\nIPF \\n'\n",
      "print results['IPF'].summary()\n",
      "             \n",
      "print '\\nAsbestosis \\n'\n",
      "print results['Asbestosis'].summary()\n",
      "\n",
      "print '\\nAll Mesothelioma \\n'\n",
      "print results['All Mesothelioma'].summary()\n",
      "\n"
     ],
     "language": "python",
     "metadata": {},
     "outputs": []
    },
    {
     "cell_type": "code",
     "collapsed": false,
     "input": [
      "#todo - bin years into periods\n",
      "#read around poisson\n",
      "#see if stata gives same results with xi:poisson death i.sex i.age_g, e(pop) irr\n",
      "#make maps"
     ],
     "language": "python",
     "metadata": {},
     "outputs": []
    },
    {
     "cell_type": "code",
     "collapsed": false,
     "input": [
      "print df[df['Cause'] == 'All Mesothelioma'].Deaths.sum()\n",
      "print df[df['Cause'] == 'Asbestosis'].Deaths.sum()"
     ],
     "language": "python",
     "metadata": {},
     "outputs": []
    }
   ],
   "metadata": {}
  }
 ]
}