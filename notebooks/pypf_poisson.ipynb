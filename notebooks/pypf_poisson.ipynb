{
 "metadata": {
  "name": "",
  "signature": "sha256:76ee78ff0051e15a7a041dd469f904ef1e3b48e6a2937f84b98f824eee7935cb"
 },
 "nbformat": 3,
 "nbformat_minor": 0,
 "worksheets": [
  {
   "cells": [
    {
     "cell_type": "code",
     "collapsed": false,
     "input": [
      "import pandas as pd\n",
      "import pickle\n",
      "import statsmodels.api as sm\n",
      "from patsy import dmatrices"
     ],
     "language": "python",
     "metadata": {},
     "outputs": [],
     "prompt_number": 1
    },
    {
     "cell_type": "code",
     "collapsed": false,
     "input": [
      "data = {'rate':[2.3, 2.4, 2.5, 2.9, 3.1],\n",
      "        'period':[1, 2, 3, 4, 5],\n",
      "        'location':['lon', 'spain', 'jam', 'jsb', 'sjd'],\n",
      "        'sex':[2, 1, 2, 1, 1]}\n",
      "\n",
      "data = pd.DataFrame(data, columns=['rate', 'period', 'location', 'sex'])\n",
      "y, X = dmatrices('rate ~ period + location + sex', data=data, return_type='dataframe')\n",
      "poisson_mod = sm.Poisson(y, X) #http://statsmodels.sourceforge.net/devel/endog_exog.html\n",
      "result = poisson_mod.fit()\n",
      "print result.summary()"
     ],
     "language": "python",
     "metadata": {},
     "outputs": [
      {
       "output_type": "stream",
       "stream": "stdout",
       "text": [
        "Optimization terminated successfully.\n",
        "         Current function value: nan\n",
        "         Iterations 8\n",
        "                          Poisson Regression Results                          \n",
        "==============================================================================\n",
        "Dep. Variable:                   rate   No. Observations:                    5\n",
        "Model:                        Poisson   Df Residuals:                        0\n",
        "Method:                           MLE   Df Model:                            4\n",
        "Date:                Sun, 17 Aug 2014   Pseudo R-squ.:                     nan\n",
        "Time:                        10:19:08   Log-Likelihood:                    nan\n",
        "converged:                       True   LL-Null:                       -7.2525\n",
        "                                        LLR p-value:                       nan\n",
        "=====================================================================================\n",
        "                        coef    std err          z      P>|z|      [95.0% Conf. Int.]\n",
        "-------------------------------------------------------------------------------------\n",
        "Intercept                nan        nan        nan        nan           nan       nan\n",
        "location[T.jsb]          nan        nan        nan        nan           nan       nan\n",
        "location[T.lon]          nan        nan        nan        nan           nan       nan\n",
        "location[T.sjd]          nan        nan        nan        nan           nan       nan\n",
        "location[T.spain]        nan        nan        nan        nan           nan       nan\n",
        "period                   nan        nan        nan        nan           nan       nan\n",
        "sex                      nan        nan        nan        nan           nan       nan\n",
        "=====================================================================================\n"
       ]
      }
     ],
     "prompt_number": 2
    },
    {
     "cell_type": "code",
     "collapsed": false,
     "input": [],
     "language": "python",
     "metadata": {},
     "outputs": []
    }
   ],
   "metadata": {}
  }
 ]
}