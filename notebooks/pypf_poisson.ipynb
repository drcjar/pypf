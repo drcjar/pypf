{
 "metadata": {
  "name": "",
  "signature": "sha256:547fab52bca761e2c2a9f1eaa0f589493c0dcbd89e812d08e9d6a2d974e209f0"
 },
 "nbformat": 3,
 "nbformat_minor": 0,
 "worksheets": [
  {
   "cells": [
    {
     "cell_type": "code",
     "collapsed": false,
     "input": [
      "import pandas as pd\n",
      "import pickle\n",
      "import statsmodels.api as sm\n",
      "from patsy import dmatrices"
     ],
     "language": "python",
     "metadata": {},
     "outputs": [],
     "prompt_number": 1
    },
    {
     "cell_type": "code",
     "collapsed": false,
     "input": [
      "df = pd.read_pickle('.././data/pickle/pypf_prep.pkl')\n",
      "df = df[df['Agegroup'] != 'ALL AGES'] #lets throw away all ages rows\n"
     ],
     "language": "python",
     "metadata": {},
     "outputs": [],
     "prompt_number": 2
    },
    {
     "cell_type": "code",
     "collapsed": false,
     "input": [
      "def model(cause, df):\n",
      "    \n",
      "    df = df[df['Cause'] == cause]\n",
      "    \n",
      "    df['Rate'] = df['Rate per 100,000 (standardised)']\n",
      "    \n",
      "    df = df[['Region', 'Agegroup', 'Sex', 'Year', 'Rate']] #get rid of extraneous stuff\n",
      "\n",
      "    y, X = dmatrices('Rate ~ Region + Agegroup + Sex + Year', data=df, return_type='dataframe')\n",
      "\n",
      "    #mod = sm.GLM(y, X, family=sm.families.Poisson())\n",
      "\n",
      "    mod = sm.Poisson(y, X) #http://statsmodels.sourceforge.net/devel/endog_exog.html\n",
      "    res = mod.fit(maxiter=100)\n",
      "    \n",
      "    return res\n",
      "\n"
     ],
     "language": "python",
     "metadata": {},
     "outputs": [],
     "prompt_number": 3
    },
    {
     "cell_type": "code",
     "collapsed": false,
     "input": [
      "results = {}\n",
      "for cause in df.Cause.unique():\n",
      "        res = model(cause,df)\n",
      "        results[cause] = res"
     ],
     "language": "python",
     "metadata": {},
     "outputs": [
      {
       "output_type": "stream",
       "stream": "stdout",
       "text": [
        "Optimization terminated successfully.\n",
        "         Current function value: 1.798345\n",
        "         Iterations 54\n",
        "Optimization terminated successfully."
       ]
      },
      {
       "output_type": "stream",
       "stream": "stdout",
       "text": [
        "\n",
        "         Current function value: 1.237806\n",
        "         Iterations 11\n",
        "Optimization terminated successfully."
       ]
      },
      {
       "output_type": "stream",
       "stream": "stdout",
       "text": [
        "\n",
        "         Current function value: 0.721016\n",
        "         Iterations 10\n",
        "Optimization terminated successfully."
       ]
      },
      {
       "output_type": "stream",
       "stream": "stdout",
       "text": [
        "\n",
        "         Current function value: 1.498846\n",
        "         Iterations 35\n"
       ]
      }
     ],
     "prompt_number": 4
    },
    {
     "cell_type": "code",
     "collapsed": false,
     "input": [
      "np.exp(results2['IPF'].params)"
     ],
     "language": "python",
     "metadata": {},
     "outputs": [
      {
       "metadata": {},
       "output_type": "pyout",
       "prompt_number": 41,
       "text": [
        "Intercept                                      0.000000\n",
        "Region[T.EAST MIDLANDS]                        1.203799\n",
        "Region[T.LONDON]                               1.001073\n",
        "Region[T.NORTH EAST]                           1.383959\n",
        "Region[T.NORTH WEST]                           1.444020\n",
        "Region[T.SOUTH EAST]                           1.056846\n",
        "Region[T.SOUTH WEST]                           1.155657\n",
        "Region[T.WALES]                                1.386270\n",
        "Region[T.WEST MIDLANDS]                        1.280242\n",
        "Region[T.YORKSHIRE AND THE HUMBER]             1.241746\n",
        "Agegroup[T.35-44]                              3.437722\n",
        "Agegroup[T.45-54]                             17.161733\n",
        "Agegroup[T.55-64]                             88.762286\n",
        "Agegroup[T.65-74]                            317.897377\n",
        "Agegroup[T.75-84]                            756.486740\n",
        "Agegroup[T.85+]                             1172.137070\n",
        "Agegroup[T.UNDER 25]                           0.477051\n",
        "Year[T.Timestamp('1975-01-01 00:00:00')]       1.002538\n",
        "Year[T.Timestamp('1976-01-01 00:00:00')]       1.058519\n",
        "Year[T.Timestamp('1977-01-01 00:00:00')]       0.928176\n",
        "Year[T.Timestamp('1978-01-01 00:00:00')]       0.982591\n",
        "Year[T.Timestamp('1979-01-01 00:00:00')]       1.064421\n",
        "Year[T.Timestamp('1980-01-01 00:00:00')]       1.124233\n",
        "Year[T.Timestamp('1981-01-01 00:00:00')]       1.118476\n",
        "Year[T.Timestamp('1982-01-01 00:00:00')]       1.230163\n",
        "Year[T.Timestamp('1983-01-01 00:00:00')]       1.252843\n",
        "Year[T.Timestamp('1984-01-01 00:00:00')]       1.566354\n",
        "Year[T.Timestamp('1985-01-01 00:00:00')]       1.738085\n",
        "Year[T.Timestamp('1986-01-01 00:00:00')]       1.704105\n",
        "Year[T.Timestamp('1987-01-01 00:00:00')]       1.711685\n",
        "Year[T.Timestamp('1988-01-01 00:00:00')]       1.758274\n",
        "Year[T.Timestamp('1989-01-01 00:00:00')]       1.719249\n",
        "Year[T.Timestamp('1990-01-01 00:00:00')]       1.925703\n",
        "Year[T.Timestamp('1991-01-01 00:00:00')]       1.868391\n",
        "Year[T.Timestamp('1992-01-01 00:00:00')]       1.919764\n",
        "Year[T.Timestamp('1993-01-01 00:00:00')]       2.198612\n",
        "Year[T.Timestamp('1994-01-01 00:00:00')]       2.217717\n",
        "Year[T.Timestamp('1995-01-01 00:00:00')]       2.143845\n",
        "Year[T.Timestamp('1996-01-01 00:00:00')]       2.343523\n",
        "Year[T.Timestamp('1997-01-01 00:00:00')]       2.488102\n",
        "Year[T.Timestamp('1998-01-01 00:00:00')]       2.551531\n",
        "Year[T.Timestamp('1999-01-01 00:00:00')]       2.620520\n",
        "Year[T.Timestamp('2000-01-01 00:00:00')]       2.675592\n",
        "Year[T.Timestamp('2001-01-01 00:00:00')]       2.767256\n",
        "Year[T.Timestamp('2002-01-01 00:00:00')]       2.811267\n",
        "Year[T.Timestamp('2003-01-01 00:00:00')]       2.940637\n",
        "Year[T.Timestamp('2004-01-01 00:00:00')]       2.977334\n",
        "Year[T.Timestamp('2005-01-01 00:00:00')]       2.948570\n",
        "Year[T.Timestamp('2006-01-01 00:00:00')]       2.931559\n",
        "Year[T.Timestamp('2007-01-01 00:00:00')]       3.248053\n",
        "Year[T.Timestamp('2008-01-01 00:00:00')]       3.256066\n",
        "Year[T.Timestamp('2009-01-01 00:00:00')]       3.196977\n",
        "Year[T.Timestamp('2010-01-01 00:00:00')]       3.428970\n",
        "Year[T.Timestamp('2011-01-01 00:00:00')]       3.860355\n",
        "Year[T.Timestamp('2012-01-01 00:00:00')]       3.830023\n",
        "Length: 55, dtype: float64"
       ]
      }
     ],
     "prompt_number": 41
    },
    {
     "cell_type": "code",
     "collapsed": false,
     "input": [
      "def model2(cause, df):\n",
      "    \n",
      "    df = df[df['Cause'] == cause]\n",
      "   # df = df[df['Sex'] == 'Male']\n",
      "    df['Rate'] = df['Deaths']\n",
      "    exposure_array = df['Population'].values\n",
      "    \n",
      "    df = df[['Region', 'Agegroup', 'Rate', 'Sex', 'Year']] #get rid of extraneous stuff\n",
      "\n",
      "   # y, X = dmatrices('Rate ~ Region + Region*Agegroup + Region*Sex', data=df, return_type='dataframe') # * to isolate region effect?\n",
      "   \n",
      "    y, X = dmatrices('Rate ~ Region + Agegroup + Sex + Year', data=df, return_type='dataframe') \n",
      "\n",
      "    #mod = sm.GLM(y, X, family=sm.families.Poisson())\n",
      "\n",
      "    mod = sm.Poisson(y, X, exposure=exposure_array) #http://statsmodels.sourceforge.net/devel/endog_exog.html\n",
      "    res = mod.fit(maxiter=100)\n",
      "\n",
      "    return res\n"
     ],
     "language": "python",
     "metadata": {},
     "outputs": [],
     "prompt_number": 34
    },
    {
     "cell_type": "code",
     "collapsed": false,
     "input": [
      "results2 = {}\n",
      "for cause in df.Cause.unique():\n",
      "        res = model2(cause,df)\n",
      "        results2[cause] = res"
     ],
     "language": "python",
     "metadata": {},
     "outputs": [
      {
       "output_type": "stream",
       "stream": "stdout",
       "text": [
        "Optimization terminated successfully.\n",
        "         Current function value: 2.105284\n",
        "         Iterations 20\n",
        "Optimization terminated successfully."
       ]
      },
      {
       "output_type": "stream",
       "stream": "stdout",
       "text": [
        "\n",
        "         Current function value: 1.914765\n",
        "         Iterations 22\n",
        "Optimization terminated successfully."
       ]
      },
      {
       "output_type": "stream",
       "stream": "stdout",
       "text": [
        "\n",
        "         Current function value: 1.277766\n",
        "         Iterations 21\n",
        "Optimization terminated successfully."
       ]
      },
      {
       "output_type": "stream",
       "stream": "stdout",
       "text": [
        "\n",
        "         Current function value: 2.197208\n",
        "         Iterations 23\n"
       ]
      }
     ],
     "prompt_number": 35
    },
    {
     "cell_type": "code",
     "collapsed": false,
     "input": [
      "ipf_region_irr = np.exp(results2['IPF'].params) #transform this into an incidence rate ratio. We can do this by exponentiating the coefficients using numpy's exp function:\n",
      "ipf_region_irr = ipf_region_irr[:10]\n",
      "ipf_region_irr.sort()\n",
      "ipf_region_irr"
     ],
     "language": "python",
     "metadata": {},
     "outputs": [
      {
       "metadata": {},
       "output_type": "pyout",
       "prompt_number": 36,
       "text": [
        "Intercept                             0.000000\n",
        "Region[T.LONDON]                      1.001073\n",
        "Region[T.SOUTH EAST]                  1.056846\n",
        "Region[T.SOUTH WEST]                  1.155657\n",
        "Region[T.EAST MIDLANDS]               1.203799\n",
        "Region[T.YORKSHIRE AND THE HUMBER]    1.241746\n",
        "Region[T.WEST MIDLANDS]               1.280242\n",
        "Region[T.NORTH EAST]                  1.383959\n",
        "Region[T.WALES]                       1.386270\n",
        "Region[T.NORTH WEST]                  1.444020\n",
        "dtype: float64"
       ]
      }
     ],
     "prompt_number": 36
    },
    {
     "cell_type": "code",
     "collapsed": false,
     "input": [
      "asb_region_irr = np.exp(results2['Asbestosis'].params) #transform this into an incidence rate ratio. We can do this by exponentiating the coefficients using numpy's exp function:\n",
      "asb_region_irr = asb_region_irr[:10]\n",
      "asb_region_irr.sort()\n",
      "asb_region_irr"
     ],
     "language": "python",
     "metadata": {},
     "outputs": [
      {
       "metadata": {},
       "output_type": "pyout",
       "prompt_number": 37,
       "text": [
        "Intercept                             5.351503e-08\n",
        "Region[T.WALES]                       1.141611e+00\n",
        "Region[T.WEST MIDLANDS]               1.255292e+00\n",
        "Region[T.EAST MIDLANDS]               1.450423e+00\n",
        "Region[T.SOUTH EAST]                  1.522230e+00\n",
        "Region[T.YORKSHIRE AND THE HUMBER]    1.678300e+00\n",
        "Region[T.SOUTH WEST]                  1.992627e+00\n",
        "Region[T.LONDON]                      2.132957e+00\n",
        "Region[T.NORTH WEST]                  2.407169e+00\n",
        "Region[T.NORTH EAST]                  5.697863e+00\n",
        "dtype: float64"
       ]
      }
     ],
     "prompt_number": 37
    },
    {
     "cell_type": "code",
     "collapsed": false,
     "input": [
      "mesa_region_irr = np.exp(results2['All Mesothelioma'].params) #transform this into an incidence rate ratio. We can do this by exponentiating the coefficients using numpy's exp function:\n",
      "mesa_region_irr = mesa_region_irr[:10]\n",
      "mesa_region_irr.sort()\n",
      "mesa_region_irr"
     ],
     "language": "python",
     "metadata": {},
     "outputs": [
      {
       "metadata": {},
       "output_type": "pyout",
       "prompt_number": 38,
       "text": [
        "Intercept                             0.000000\n",
        "Region[T.WALES]                       0.692029\n",
        "Region[T.WEST MIDLANDS]               0.734237\n",
        "Region[T.EAST MIDLANDS]               0.798574\n",
        "Region[T.LONDON]                      0.859736\n",
        "Region[T.SOUTH WEST]                  0.923015\n",
        "Region[T.YORKSHIRE AND THE HUMBER]    0.925638\n",
        "Region[T.NORTH WEST]                  1.001746\n",
        "Region[T.SOUTH EAST]                  1.111723\n",
        "Region[T.NORTH EAST]                  1.491341\n",
        "dtype: float64"
       ]
      }
     ],
     "prompt_number": 38
    },
    {
     "cell_type": "code",
     "collapsed": false,
     "input": [
      "mesp_region_irr = np.exp(results2['Pulmonary Mesothelioma'].params) #transform this into an incidence rate ratio. We can do this by exponentiating the coefficients using numpy's exp function:\n",
      "mesp_region_irr = mesp_region_irr[:10]\n",
      "mesp_region_irr.sort()\n",
      "mesp_region_irr"
     ],
     "language": "python",
     "metadata": {},
     "outputs": [
      {
       "metadata": {},
       "output_type": "pyout",
       "prompt_number": 39,
       "text": [
        "Intercept                             4.916811e-08\n",
        "Region[T.WALES]                       7.838932e-01\n",
        "Region[T.SOUTH WEST]                  1.023173e+00\n",
        "Region[T.LONDON]                      1.026302e+00\n",
        "Region[T.EAST MIDLANDS]               1.048427e+00\n",
        "Region[T.WEST MIDLANDS]               1.066102e+00\n",
        "Region[T.NORTH WEST]                  1.270134e+00\n",
        "Region[T.SOUTH EAST]                  1.466300e+00\n",
        "Region[T.YORKSHIRE AND THE HUMBER]    1.678177e+00\n",
        "Region[T.NORTH EAST]                  2.924325e+00\n",
        "dtype: float64"
       ]
      }
     ],
     "prompt_number": 39
    },
    {
     "cell_type": "code",
     "collapsed": false,
     "input": [
      "print results2['Asbestosis'].summary()"
     ],
     "language": "python",
     "metadata": {},
     "outputs": [
      {
       "output_type": "stream",
       "stream": "stdout",
       "text": [
        "                          Poisson Regression Results                          \n",
        "==============================================================================\n",
        "Dep. Variable:                   Rate   No. Observations:                 1824\n",
        "Model:                        Poisson   Df Residuals:                     1771\n",
        "Method:                           MLE   Df Model:                           52\n",
        "Date:                Sun, 17 Aug 2014   Pseudo R-squ.:                  0.3926\n",
        "Time:                        21:22:09   Log-Likelihood:                -2330.6\n",
        "converged:                       True   LL-Null:                       -3836.8\n",
        "                                        LLR p-value:                     0.000\n",
        "============================================================================================================\n",
        "                                               coef    std err          z      P>|z|      [95.0% Conf. Int.]\n",
        "------------------------------------------------------------------------------------------------------------\n",
        "Intercept                                  -16.7433      0.514    -32.558      0.000       -17.751   -15.735\n",
        "Region[T.EAST MIDLANDS]                      0.3719      0.115      3.235      0.001         0.147     0.597\n",
        "Region[T.LONDON]                             0.7575      0.101      7.485      0.000         0.559     0.956\n",
        "Region[T.NORTH EAST]                         1.7401      0.097     17.859      0.000         1.549     1.931\n",
        "Region[T.NORTH WEST]                         0.8785      0.096      9.113      0.000         0.690     1.067\n",
        "Region[T.SOUTH EAST]                         0.4202      0.099      4.253      0.000         0.227     0.614\n",
        "Region[T.SOUTH WEST]                         0.6895      0.101      6.835      0.000         0.492     0.887\n",
        "Region[T.WALES]                              0.1324      0.133      0.999      0.318        -0.128     0.392\n",
        "Region[T.WEST MIDLANDS]                      0.2274      0.113      2.013      0.044         0.006     0.449\n",
        "Region[T.YORKSHIRE AND THE HUMBER]           0.5178      0.107      4.847      0.000         0.308     0.727\n",
        "Agegroup[T.45-54]                            0.6206      0.468      1.326      0.185        -0.297     1.538\n",
        "Agegroup[T.55-64]                            2.4631      0.452      5.446      0.000         1.577     3.350\n",
        "Agegroup[T.65-74]                            3.7422      0.450      8.313      0.000         2.860     4.625\n",
        "Agegroup[T.75-84]                            4.5109      0.450     10.022      0.000         3.629     5.393\n",
        "Agegroup[T.85+]                              4.7863      0.453     10.573      0.000         3.899     5.674\n",
        "Year[T.Timestamp('1975-01-01 00:00:00')]     0.6175      0.300      2.057      0.040         0.029     1.206\n",
        "Year[T.Timestamp('1976-01-01 00:00:00')]    -0.0287      0.343     -0.084      0.933        -0.701     0.644\n",
        "Year[T.Timestamp('1977-01-01 00:00:00')]     0.4548      0.307      1.479      0.139        -0.148     1.057\n",
        "Year[T.Timestamp('1978-01-01 00:00:00')]     0.4056      0.310      1.310      0.190        -0.201     1.012\n",
        "Year[T.Timestamp('1979-01-01 00:00:00')]     0.2740      0.317      0.864      0.387        -0.347     0.895\n",
        "Year[T.Timestamp('1980-01-01 00:00:00')]     0.3407      0.312      1.092      0.275        -0.271     0.952\n",
        "Year[T.Timestamp('1981-01-01 00:00:00')]     0.2321      0.310      0.749      0.454        -0.375     0.840\n",
        "Year[T.Timestamp('1982-01-01 00:00:00')]     0.5125      0.295      1.739      0.082        -0.065     1.090\n",
        "Year[T.Timestamp('1983-01-01 00:00:00')]     0.4806      0.296      1.623      0.105        -0.100     1.061\n",
        "Year[T.Timestamp('1984-01-01 00:00:00')]     0.3846      0.301      1.280      0.201        -0.205     0.974\n",
        "Year[T.Timestamp('1985-01-01 00:00:00')]     0.3967      0.299      1.327      0.185        -0.189     0.983\n",
        "Year[T.Timestamp('1986-01-01 00:00:00')]     0.6001      0.289      2.077      0.038         0.034     1.166\n",
        "Year[T.Timestamp('1987-01-01 00:00:00')]     0.5610      0.290      1.935      0.053        -0.007     1.129\n",
        "Year[T.Timestamp('1988-01-01 00:00:00')]     0.3267      0.301      1.087      0.277        -0.262     0.916\n",
        "Year[T.Timestamp('1989-01-01 00:00:00')]     0.5865      0.288      2.037      0.042         0.022     1.151\n",
        "Year[T.Timestamp('1990-01-01 00:00:00')]     0.7527      0.281      2.677      0.007         0.202     1.304\n",
        "Year[T.Timestamp('1991-01-01 00:00:00')]     0.8398      0.278      3.021      0.003         0.295     1.385\n",
        "Year[T.Timestamp('1992-01-01 00:00:00')]     0.7381      0.281      2.624      0.009         0.187     1.289\n",
        "Year[T.Timestamp('1993-01-01 00:00:00')]     0.7343      0.281      2.611      0.009         0.183     1.285\n",
        "Year[T.Timestamp('1994-01-01 00:00:00')]     0.8451      0.277      3.047      0.002         0.301     1.389\n",
        "Year[T.Timestamp('1995-01-01 00:00:00')]     0.8278      0.277      2.984      0.003         0.284     1.372\n",
        "Year[T.Timestamp('1996-01-01 00:00:00')]     0.7967      0.278      2.866      0.004         0.252     1.342\n",
        "Year[T.Timestamp('1997-01-01 00:00:00')]     0.8880      0.275      3.232      0.001         0.350     1.427\n",
        "Year[T.Timestamp('1998-01-01 00:00:00')]     0.5929      0.284      2.085      0.037         0.036     1.150\n",
        "Year[T.Timestamp('1999-01-01 00:00:00')]     0.7601      0.278      2.734      0.006         0.215     1.305\n",
        "Year[T.Timestamp('2000-01-01 00:00:00')]     0.8181      0.276      2.966      0.003         0.278     1.359\n",
        "Year[T.Timestamp('2001-01-01 00:00:00')]     0.9144      0.273      3.355      0.001         0.380     1.448\n",
        "Year[T.Timestamp('2002-01-01 00:00:00')]     1.1624      0.266      4.371      0.000         0.641     1.684\n",
        "Year[T.Timestamp('2003-01-01 00:00:00')]     1.2158      0.265      4.596      0.000         0.697     1.734\n",
        "Year[T.Timestamp('2004-01-01 00:00:00')]     1.2946      0.263      4.928      0.000         0.780     1.809\n",
        "Year[T.Timestamp('2005-01-01 00:00:00')]     1.3537      0.261      5.180      0.000         0.842     1.866\n",
        "Year[T.Timestamp('2006-01-01 00:00:00')]     1.4660      0.259      5.656      0.000         0.958     1.974\n",
        "Year[T.Timestamp('2007-01-01 00:00:00')]     1.3289      0.261      5.088      0.000         0.817     1.841\n",
        "Year[T.Timestamp('2008-01-01 00:00:00')]     1.4997      0.258      5.809      0.000         0.994     2.006\n",
        "Year[T.Timestamp('2009-01-01 00:00:00')]     1.8367      0.254      7.238      0.000         1.339     2.334\n",
        "Year[T.Timestamp('2010-01-01 00:00:00')]     1.7027      0.255      6.678      0.000         1.203     2.202\n",
        "Year[T.Timestamp('2011-01-01 00:00:00')]     1.6260      0.256      6.359      0.000         1.125     2.127\n",
        "Year[T.Timestamp('2012-01-01 00:00:00')]     1.7563      0.254      6.918      0.000         1.259     2.254\n",
        "============================================================================================================\n"
       ]
      }
     ],
     "prompt_number": 45
    },
    {
     "cell_type": "code",
     "collapsed": false,
     "input": [
      "np.exp(results2['Asbestosis'].params)"
     ],
     "language": "python",
     "metadata": {},
     "outputs": [
      {
       "metadata": {},
       "output_type": "pyout",
       "prompt_number": 46,
       "text": [
        "Intercept                                   5.351503e-08\n",
        "Region[T.EAST MIDLANDS]                     1.450423e+00\n",
        "Region[T.LONDON]                            2.132957e+00\n",
        "Region[T.NORTH EAST]                        5.697863e+00\n",
        "Region[T.NORTH WEST]                        2.407169e+00\n",
        "Region[T.SOUTH EAST]                        1.522230e+00\n",
        "Region[T.SOUTH WEST]                        1.992627e+00\n",
        "Region[T.WALES]                             1.141611e+00\n",
        "Region[T.WEST MIDLANDS]                     1.255292e+00\n",
        "Region[T.YORKSHIRE AND THE HUMBER]          1.678300e+00\n",
        "Agegroup[T.45-54]                           1.860073e+00\n",
        "Agegroup[T.55-64]                           1.174103e+01\n",
        "Agegroup[T.65-74]                           4.219172e+01\n",
        "Agegroup[T.75-84]                           9.100604e+01\n",
        "Agegroup[T.85+]                             1.198629e+02\n",
        "Year[T.Timestamp('1975-01-01 00:00:00')]    1.854270e+00\n",
        "Year[T.Timestamp('1976-01-01 00:00:00')]    9.717378e-01\n",
        "Year[T.Timestamp('1977-01-01 00:00:00')]    1.575871e+00\n",
        "Year[T.Timestamp('1978-01-01 00:00:00')]    1.500170e+00\n",
        "Year[T.Timestamp('1979-01-01 00:00:00')]    1.315152e+00\n",
        "Year[T.Timestamp('1980-01-01 00:00:00')]    1.405903e+00\n",
        "Year[T.Timestamp('1981-01-01 00:00:00')]    1.261300e+00\n",
        "Year[T.Timestamp('1982-01-01 00:00:00')]    1.669507e+00\n",
        "Year[T.Timestamp('1983-01-01 00:00:00')]    1.617054e+00\n",
        "Year[T.Timestamp('1984-01-01 00:00:00')]    1.468969e+00\n",
        "Year[T.Timestamp('1985-01-01 00:00:00')]    1.486886e+00\n",
        "Year[T.Timestamp('1986-01-01 00:00:00')]    1.822244e+00\n",
        "Year[T.Timestamp('1987-01-01 00:00:00')]    1.752373e+00\n",
        "Year[T.Timestamp('1988-01-01 00:00:00')]    1.386325e+00\n",
        "Year[T.Timestamp('1989-01-01 00:00:00')]    1.797658e+00\n",
        "Year[T.Timestamp('1990-01-01 00:00:00')]    2.122825e+00\n",
        "Year[T.Timestamp('1991-01-01 00:00:00')]    2.315908e+00\n",
        "Year[T.Timestamp('1992-01-01 00:00:00')]    2.091883e+00\n",
        "Year[T.Timestamp('1993-01-01 00:00:00')]    2.083959e+00\n",
        "Year[T.Timestamp('1994-01-01 00:00:00')]    2.328194e+00\n",
        "Year[T.Timestamp('1995-01-01 00:00:00')]    2.288372e+00\n",
        "Year[T.Timestamp('1996-01-01 00:00:00')]    2.218285e+00\n",
        "Year[T.Timestamp('1997-01-01 00:00:00')]    2.430376e+00\n",
        "Year[T.Timestamp('1998-01-01 00:00:00')]    1.809242e+00\n",
        "Year[T.Timestamp('1999-01-01 00:00:00')]    2.138398e+00\n",
        "Year[T.Timestamp('2000-01-01 00:00:00')]    2.266123e+00\n",
        "Year[T.Timestamp('2001-01-01 00:00:00')]    2.495205e+00\n",
        "Year[T.Timestamp('2002-01-01 00:00:00')]    3.197659e+00\n",
        "Year[T.Timestamp('2003-01-01 00:00:00')]    3.372863e+00\n",
        "Year[T.Timestamp('2004-01-01 00:00:00')]    3.649611e+00\n",
        "Year[T.Timestamp('2005-01-01 00:00:00')]    3.871838e+00\n",
        "Year[T.Timestamp('2006-01-01 00:00:00')]    4.331992e+00\n",
        "Year[T.Timestamp('2007-01-01 00:00:00')]    3.776984e+00\n",
        "Year[T.Timestamp('2008-01-01 00:00:00')]    4.480460e+00\n",
        "Year[T.Timestamp('2009-01-01 00:00:00')]    6.276041e+00\n",
        "Year[T.Timestamp('2010-01-01 00:00:00')]    5.488576e+00\n",
        "Year[T.Timestamp('2011-01-01 00:00:00')]    5.083268e+00\n",
        "Year[T.Timestamp('2012-01-01 00:00:00')]    5.791049e+00\n",
        "Length: 53, dtype: float64"
       ]
      }
     ],
     "prompt_number": 46
    },
    {
     "cell_type": "code",
     "collapsed": false,
     "input": [
      "#todo - bin years into periods"
     ],
     "language": "python",
     "metadata": {},
     "outputs": [],
     "prompt_number": 47
    },
    {
     "cell_type": "code",
     "collapsed": false,
     "input": [],
     "language": "python",
     "metadata": {},
     "outputs": []
    }
   ],
   "metadata": {}
  }
 ]
}