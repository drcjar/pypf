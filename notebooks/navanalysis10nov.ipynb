{
 "cells": [
  {
   "cell_type": "code",
   "execution_count": 1,
   "metadata": {
    "collapsed": true
   },
   "outputs": [],
   "source": [
    "import pandas as pd\n",
    "import collections\n",
    "import matplotlib as plt\n",
    "import scipy\n",
    "from scipy import stats\n",
    "%matplotlib inline\n",
    "import pandas as pd\n",
    "pd.options.display.float_format = '{:,.1f}'.format\n"
   ]
  },
  {
   "cell_type": "code",
   "execution_count": 13,
   "metadata": {
    "collapsed": false
   },
   "outputs": [],
   "source": [
    "def load_data():\n",
    "    cases = pd.read_excel('navdata/cases_occupation.xlsx') #from navaratnum uses soc 1990\n",
    "    controls = pd.read_excel('navdata/controls_occupation.xlsx') #from navaratnum uses soc 1990\n",
    "    sclass = pd.read_excel(\"./navdata/nssecderivationtablessoc90.xls\")\n",
    "    return cases, controls, sclass\n",
    "\n",
    "def clean_list(messylist):\n",
    "#cleans a list containing ranges by expanding ranges e.g 1-4 becomes 1,2,3,4. \n",
    "#like the ones we have in table 2.3.2 www.hse.gov.uk/research/rrpdf/rr696.pdf\n",
    "\n",
    "    nums = []\n",
    "    expandnums = []\n",
    "\n",
    "    messylist = messylist.split(\",\")\n",
    "    messylist = [s.strip() for s in messylist]\n",
    "\n",
    "    for s in messylist:\n",
    "        if '-' in s:\n",
    "            s = s.split(\"-\")\n",
    "            s = [int(i) for i in s]\n",
    "            expandnums.append(range(s[0], s[1]+1))\n",
    "        else:\n",
    "            nums.append(int(s))\n",
    "        \n",
    "    expandnums = [item for sublist in expandnums for item in sublist]\n",
    "    cleanlist = nums + expandnums\n",
    "    cleanlist.sort()\n",
    "    \n",
    "    return cleanlist\n",
    "\n",
    "def makejobcatlookup():\n",
    "    #makes a jobgrouplookup that maps soc codes to asbestos exposure group\n",
    "    #from table 2.3.2 www.hse.gov.uk/research/rrpdf/rr696.pdf\n",
    "    #and ***edited to remove duplicates so it doesn't break the reverse lookup***\n",
    "    #uses soc 1990\n",
    "    #need to add nec to office and low risk\n",
    "    \n",
    "    #manually added by me 5:'551'\n",
    "    #?579 woodworking n.e.c\n",
    "    #?814\n",
    "    \n",
    "    jobclassification = ((5, clean_list(\"\"\"\n",
    "    101, 120-127, 130-132, 139, 154, 155, 160, 169, 170, 172-\n",
    "    179, 190, 191, 220-224, 230-235, 239-242, 250-253, 260,\n",
    "    261, 270, 271, 290-293, 320, 340-347, 361-363, 370, 371,\n",
    "    380, 381, 383-387, 390, 392, 399-401, 410-412, 420, 421,\n",
    "    430, 450-452, 459-462, 490, 551, 556, 559, 560, 569, 580-582,\n",
    "    592, 594, 595, 598, 610, 619-622, 630, 640-644, 650-652,\n",
    "    659-661, 670, 671, 673, 690, 691, 699, 700-703, 710, 719-\n",
    "    722, 730, 732, 790-792, 900-904, 950-956, 958,\n",
    "    134, 394, 140, 152, 800, 550, 551, 555, 557, 957, 199,\n",
    "    364, 360, 100, 209, 331, 350, 393\"\"\")),\n",
    "                              (4, clean_list(\"\"\"540,\n",
    "    310,\n",
    "    210-219,\n",
    "    440-441,\n",
    "    150-151, 600-601,\n",
    "    731, 870-875,\n",
    "    113, 153, 171, 304, 348, 396, 531, 542-544, 553, 561, 569,\n",
    "    571, 590, 596, 597, 599, 611, 612, 615, 619, 631, 642, 672,\n",
    "    699, 733, 801, 809, 811, 820, 822, 824, 825, 829, 910, 911-\n",
    "    913, 919, 923, 924, 931, 933, 934, 940, 941, 955, 956, 958,\n",
    "    990, 999,\n",
    "    812, 395, 141, 142, 572, 112, 823, 552, 821, 814\"\"\")),\n",
    "                           (3, clean_list(\"\"\"516, 913,\n",
    "    881-884, 922,\n",
    "    200, 300-302, 309,\n",
    "    110, 260, 262, 311,\n",
    "    510-515, 517-519,\n",
    "    520, 522-529,\n",
    "    535-537,\n",
    "    830-844,\n",
    "    850-869,\n",
    "    887-892, 894, 897-899,\n",
    "    391, 394, 554\"\"\")),\n",
    "                           (2, clean_list(\"\"\"570, 920,\n",
    "    532, 913,\n",
    "    521, 913,\n",
    "    507,\n",
    "    111, 500-506, 509, 885, 886, 895, 896, 921, 923, 924, 929, 990, 913,\n",
    "    530, 579\"\"\")),\n",
    "                                (1, clean_list(\"\"\"533, 534,\n",
    "    541,\n",
    "    893, 896, 921, 929, 990,\n",
    "    880, 332, 903, 69, 173, 174, 239, 385, 463, 620, 621,\n",
    "    630, 900, 930, 952, 953\"\"\")))\n",
    "\n",
    "\n",
    "    jobclassification = collections.OrderedDict(jobclassification)                    \n",
    "\n",
    "    #invert the dictionary to make our look up\n",
    "    jobcatlookup = {value: key for key in jobclassification for value in jobclassification[key]}\n",
    "\n",
    "    return jobcatlookup, jobclassification\n",
    "\n",
    "def menonly(df):\n",
    "    df = df[df['Gender'] == 'Male']\n",
    "    return df\n",
    "\n",
    "def job_cat_analysis(df):\n",
    "    df = menonly(df)\n",
    "    df = df.ix[:,1:11].applymap(jobcatlookup.get)\n",
    "    df = df.min(axis=1).value_counts()\n",
    "    return df\n",
    "\n",
    "def soc_class_analysis(df):\n",
    "    df = menonly(df)\n",
    "    df = df.ix[:,1:11].applymap(lambda x: sclasslookup.get(x))\n",
    "    df = df.min(axis=1).value_counts()\n",
    "    return df"
   ]
  },
  {
   "cell_type": "code",
   "execution_count": 50,
   "metadata": {
    "collapsed": false
   },
   "outputs": [],
   "source": [
    "jobgroups = ((1,'Non-construction high risk occupations'), (2,'Construction'), \n",
    "           (3,'Medium risk industrial'), (4,'Low risk industrial'),\n",
    "           (5,'Office and other low risk'))\n",
    "jobgroups = collections.OrderedDict(jobgroups)    \n",
    "\n",
    "cases, controls, sclass = load_data()\n",
    "\n",
    "jobcatlookup, jobclassification = makejobcatlookup()\n",
    "\n",
    "soclookup = dict(zip(sclass.soc90, sclass['STANDARD OCCUPATIONAL CLASSIFICATION 1990 OCCUPATION UNIT GROUP TITLE']))\n",
    "\n",
    "sclasslookup = dict(zip(sclass.soc90, sclass.ssec))\n",
    "\n",
    "highestrisklist = [541,534,532,570,896,521,893,533,913,211,516] #from table 2.3.1 www.hse.gov.uk/research/rrpdf/rr696.pdf\n",
    "highestrisklist = [float(i) for i in highestrisklist]"
   ]
  },
  {
   "cell_type": "code",
   "execution_count": 15,
   "metadata": {
    "collapsed": false
   },
   "outputs": [
    {
     "data": {
      "text/html": [
       "<div style=\"max-height:1000px;max-width:1500px;overflow:auto;\">\n",
       "<table border=\"1\" class=\"dataframe\">\n",
       "  <thead>\n",
       "    <tr style=\"text-align: right;\">\n",
       "      <th></th>\n",
       "      <th>code</th>\n",
       "      <th>soc90 job</th>\n",
       "    </tr>\n",
       "  </thead>\n",
       "  <tbody>\n",
       "    <tr>\n",
       "      <th>0</th>\n",
       "      <td>305.0</td>\n",
       "      <td>NaN</td>\n",
       "    </tr>\n",
       "    <tr>\n",
       "      <th>1</th>\n",
       "      <td>607.0</td>\n",
       "      <td>NaN</td>\n",
       "    </tr>\n",
       "    <tr>\n",
       "      <th>2</th>\n",
       "      <td>3.0</td>\n",
       "      <td>NaN</td>\n",
       "    </tr>\n",
       "    <tr>\n",
       "      <th>3</th>\n",
       "      <td>203.0</td>\n",
       "      <td>NaN</td>\n",
       "    </tr>\n",
       "    <tr>\n",
       "      <th>4</th>\n",
       "      <td>439.0</td>\n",
       "      <td>NaN</td>\n",
       "    </tr>\n",
       "  </tbody>\n",
       "</table>\n",
       "</div>"
      ],
      "text/plain": [
       "   code soc90 job\n",
       "0 305.0       NaN\n",
       "1 607.0       NaN\n",
       "2   3.0       NaN\n",
       "3 203.0       NaN\n",
       "4 439.0       NaN"
      ]
     },
     "execution_count": 15,
     "metadata": {},
     "output_type": "execute_result"
    }
   ],
   "source": [
    "#are all of the soc90 codes in our data in our lookup? nope, some aren't soc codes at all.\n",
    "\n",
    "cases_codes_set = set(cases.ix[:,1:11].stack().unique())\n",
    "jobcatlookup_codes_set = set(jobcatlookup.keys())\n",
    "\n",
    "missingfrompeto = pd.concat([pd.DataFrame(list(cases_codes_set - jobcatlookup_codes_set)), pd.DataFrame(list(cases_codes_set - jobcatlookup_codes_set)).applymap(soclookup.get)], axis=1)\n",
    "missingfrompeto.columns = ['code', 'soc90 job']\n",
    "#missingfrompeto\n",
    "#missingfrompeto.to_csv('missingfrompeto.csv') #saved before added to our lookup manually\n",
    "\n",
    "missingfrompetoandnotasoc90code = missingfrompeto[missingfrompeto['soc90 job'].isnull()]\n",
    "missingfrompetoandnotasoc90code \n",
    "#missingfrompetoandnotasoc90code.to_csv('missingfrompetoANDnotasoc90code')"
   ]
  },
  {
   "cell_type": "code",
   "execution_count": 16,
   "metadata": {
    "collapsed": false
   },
   "outputs": [
    {
     "data": {
      "text/plain": [
       "Drivers of road goods vehicles                              58\n",
       "NCOs and other ranks, UK armed forces                       53\n",
       "Sales assistants                                            48\n",
       "Clerks (n.o.s.)                                             45\n",
       "Face trained coalmining workers, shotfirers and deputies    36\n",
       "dtype: int64"
      ]
     },
     "execution_count": 16,
     "metadata": {},
     "output_type": "execute_result"
    }
   ],
   "source": [
    "cases.ix[:,1:11].applymap(soclookup.get).stack().value_counts().head()"
   ]
  },
  {
   "cell_type": "code",
   "execution_count": 17,
   "metadata": {
    "collapsed": false
   },
   "outputs": [
    {
     "data": {
      "text/plain": [
       "NCOs and other ranks, UK armed forces                                              37\n",
       "Secondary (and middle school deemed secondary) education teaching professionals    32\n",
       "Production, works and maintenance managers                                         32\n",
       "Managers and proprietors in service industries n.e.c.                              29\n",
       "Drivers of road goods vehicles                                                     28\n",
       "dtype: int64"
      ]
     },
     "execution_count": 17,
     "metadata": {},
     "output_type": "execute_result"
    }
   ],
   "source": [
    "controls.ix[:,1:11].applymap(soclookup.get).stack().value_counts().head()"
   ]
  },
  {
   "cell_type": "code",
   "execution_count": 18,
   "metadata": {
    "collapsed": false
   },
   "outputs": [
    {
     "data": {
      "text/html": [
       "<div style=\"max-height:1000px;max-width:1500px;overflow:auto;\">\n",
       "<table border=\"1\" class=\"dataframe\">\n",
       "  <thead>\n",
       "    <tr style=\"text-align: right;\">\n",
       "      <th></th>\n",
       "      <th>cases</th>\n",
       "      <th>controls</th>\n",
       "      <th>odds ratio</th>\n",
       "    </tr>\n",
       "  </thead>\n",
       "  <tbody>\n",
       "    <tr>\n",
       "      <th>Non-construction high risk occupations</th>\n",
       "      <td>55</td>\n",
       "      <td>48</td>\n",
       "      <td>2.5</td>\n",
       "    </tr>\n",
       "    <tr>\n",
       "      <th>Construction</th>\n",
       "      <td>52</td>\n",
       "      <td>35</td>\n",
       "      <td>3.3</td>\n",
       "    </tr>\n",
       "    <tr>\n",
       "      <th>Medium risk industrial</th>\n",
       "      <td>43</td>\n",
       "      <td>45</td>\n",
       "      <td>2.1</td>\n",
       "    </tr>\n",
       "    <tr>\n",
       "      <th>Low risk industrial</th>\n",
       "      <td>58</td>\n",
       "      <td>35</td>\n",
       "      <td>3.6</td>\n",
       "    </tr>\n",
       "    <tr>\n",
       "      <th>Office and other low risk</th>\n",
       "      <td>15</td>\n",
       "      <td>33</td>\n",
       "      <td>1.0</td>\n",
       "    </tr>\n",
       "  </tbody>\n",
       "</table>\n",
       "</div>"
      ],
      "text/plain": [
       "                                        cases  controls  odds ratio\n",
       "Non-construction high risk occupations     55        48         2.5\n",
       "Construction                               52        35         3.3\n",
       "Medium risk industrial                     43        45         2.1\n",
       "Low risk industrial                        58        35         3.6\n",
       "Office and other low risk                  15        33         1.0"
      ]
     },
     "execution_count": 18,
     "metadata": {},
     "output_type": "execute_result"
    }
   ],
   "source": [
    "exp_table = pd.concat([job_cat_analysis(cases), job_cat_analysis(controls)], axis = 1)\n",
    "exp_table['odds ratio'] = 0\n",
    "exp_table.columns = ['cases', 'controls', 'odds ratio']\n",
    "exp_table['odds ratio'] = (exp_table['cases'].astype(float) / exp_table['controls'].astype(float)) \\\n",
    "                        / (exp_table.iloc[4]['cases'].astype(float) / exp_table.iloc[4]['controls'].astype(float))\n",
    "exp_table.index = jobgroups.values()\n",
    "exp_table\n"
   ]
  },
  {
   "cell_type": "code",
   "execution_count": 198,
   "metadata": {
    "collapsed": false
   },
   "outputs": [
    {
     "data": {
      "text/html": [
       "<div style=\"max-height:1000px;max-width:1500px;overflow:auto;\">\n",
       "<table border=\"1\" class=\"dataframe\">\n",
       "  <thead>\n",
       "    <tr style=\"text-align: right;\">\n",
       "      <th></th>\n",
       "      <th>cases</th>\n",
       "      <th>controls</th>\n",
       "      <th>odds ratio</th>\n",
       "    </tr>\n",
       "  </thead>\n",
       "  <tbody>\n",
       "    <tr>\n",
       "      <th>Not office and other low risk</th>\n",
       "      <td>208</td>\n",
       "      <td>163</td>\n",
       "      <td>2.8</td>\n",
       "    </tr>\n",
       "    <tr>\n",
       "      <th>Office and other low risk</th>\n",
       "      <td>15</td>\n",
       "      <td>33</td>\n",
       "      <td>1.0</td>\n",
       "    </tr>\n",
       "  </tbody>\n",
       "</table>\n",
       "</div>"
      ],
      "text/plain": [
       "                               cases  controls  odds ratio\n",
       "Not office and other low risk    208       163         2.8\n",
       "Office and other low risk         15        33         1.0"
      ]
     },
     "execution_count": 198,
     "metadata": {},
     "output_type": "execute_result"
    }
   ],
   "source": [
    "exp_table2 =  pd.concat([job_cat_analysis(cases), job_cat_analysis(controls)], axis = 1)\n",
    "notofficecases = exp_table['cases'].sum() - exp_table['cases'][4]\n",
    "notofficecontrols = exp_table['controls'].sum() - exp_table['controls'][4]\n",
    "notoffice = pd.DataFrame([[notofficecases,notofficecontrols]], columns=[0,1], index=[6])\n",
    "exp_table2 = notoffice.append(exp_table2[5:])\n",
    "exp_table2['odds ratio'] = 0\n",
    "exp_table2.columns = ['cases', 'controls', 'odds ratio']\n",
    "exp_table2['odds ratio'] = (exp_table2['cases'].astype(float) / exp_table2['controls'].astype(float)) \\\n",
    "                        / (exp_table2.iloc[1]['cases'].astype(float) / exp_table2.iloc[1]['controls'].astype(float))\n",
    "exp_table2.index = ['Not office and other low risk','Office and other low risk']\n",
    "exp_table2\n"
   ]
  },
  {
   "cell_type": "code",
   "execution_count": 195,
   "metadata": {
    "collapsed": false
   },
   "outputs": [
    {
     "data": {
      "text/plain": [
       "<matplotlib.axes._subplots.AxesSubplot at 0x7f88b576f190>"
      ]
     },
     "execution_count": 195,
     "metadata": {},
     "output_type": "execute_result"
    },
    {
     "data": {
      "image/png": "[encoded data removed]",
      "text/plain": [
       "<matplotlib.figure.Figure at 0x7f88c6f8a2d0>"
      ]
     },
     "metadata": {},
     "output_type": "display_data"
    }
   ],
   "source": [
    "catdist = pd.concat([cases.ix[:,1:11].applymap(jobcatlookup.get).stack().value_counts(),\n",
    "controls.ix[:,1:11].applymap(jobcatlookup.get).stack().value_counts()], axis=1)\n",
    "catdist.columns = ['cases', 'controls']\n",
    "catdist.apply(lambda x: 100*x/float(x.sum())).plot(kind='bar')"
   ]
  },
  {
   "cell_type": "code",
   "execution_count": 20,
   "metadata": {
    "collapsed": false
   },
   "outputs": [
    {
     "data": {
      "text/html": [
       "<div style=\"max-height:1000px;max-width:1500px;overflow:auto;\">\n",
       "<table border=\"1\" class=\"dataframe\">\n",
       "  <thead>\n",
       "    <tr style=\"text-align: right;\">\n",
       "      <th></th>\n",
       "      <th>SEC</th>\n",
       "      <th>% cases</th>\n",
       "      <th>% controls</th>\n",
       "    </tr>\n",
       "  </thead>\n",
       "  <tbody>\n",
       "    <tr>\n",
       "      <th>0</th>\n",
       "      <td>1.1</td>\n",
       "      <td>16.6</td>\n",
       "      <td>27.0</td>\n",
       "    </tr>\n",
       "    <tr>\n",
       "      <th>1</th>\n",
       "      <td>1.2</td>\n",
       "      <td>14.3</td>\n",
       "      <td>18.4</td>\n",
       "    </tr>\n",
       "    <tr>\n",
       "      <th>2</th>\n",
       "      <td>2.0</td>\n",
       "      <td>19.7</td>\n",
       "      <td>25.5</td>\n",
       "    </tr>\n",
       "    <tr>\n",
       "      <th>3</th>\n",
       "      <td>3.0</td>\n",
       "      <td>16.1</td>\n",
       "      <td>12.2</td>\n",
       "    </tr>\n",
       "    <tr>\n",
       "      <th>4</th>\n",
       "      <td>4.0</td>\n",
       "      <td>7.6</td>\n",
       "      <td>11.2</td>\n",
       "    </tr>\n",
       "    <tr>\n",
       "      <th>5</th>\n",
       "      <td>5.0</td>\n",
       "      <td>7.6</td>\n",
       "      <td>3.1</td>\n",
       "    </tr>\n",
       "    <tr>\n",
       "      <th>6</th>\n",
       "      <td>6.0</td>\n",
       "      <td>11.2</td>\n",
       "      <td>2.6</td>\n",
       "    </tr>\n",
       "    <tr>\n",
       "      <th>7</th>\n",
       "      <td>7.0</td>\n",
       "      <td>6.7</td>\n",
       "      <td>0.0</td>\n",
       "    </tr>\n",
       "    <tr>\n",
       "      <th>8</th>\n",
       "      <td>Total</td>\n",
       "      <td>100.0</td>\n",
       "      <td>100.0</td>\n",
       "    </tr>\n",
       "  </tbody>\n",
       "</table>\n",
       "</div>"
      ],
      "text/plain": [
       "     SEC  % cases  % controls\n",
       "0    1.1     16.6        27.0\n",
       "1    1.2     14.3        18.4\n",
       "2    2.0     19.7        25.5\n",
       "3    3.0     16.1        12.2\n",
       "4    4.0      7.6        11.2\n",
       "5    5.0      7.6         3.1\n",
       "6    6.0     11.2         2.6\n",
       "7    7.0      6.7         0.0\n",
       "8  Total    100.0       100.0"
      ]
     },
     "execution_count": 20,
     "metadata": {},
     "output_type": "execute_result"
    }
   ],
   "source": [
    "caseclass = soc_class_analysis(cases)\n",
    "contclass = soc_class_analysis(controls)\n",
    "\n",
    "caseclass = pd.DataFrame(caseclass)\n",
    "caseclass = caseclass.apply(lambda x: 100*x/float(x.sum()))\n",
    "#caseclass.sort().plot(kind='bar', title='Percentage of cases in each social class', ylim=(0,30), legend=False)\n",
    "\n",
    "contclass = pd.DataFrame(contclass)\n",
    "contclass = contclass.apply(lambda x: 100*x/float(x.sum()))\n",
    "#contclass.sort().plot(kind='bar', ylim=(0,30), legend=False, title ='Percentage of controls in each social class')\n",
    "\n",
    "caseclass.columns = ['cases']\n",
    "contclass.columns = ['controls']\n",
    "casecont = [caseclass, contclass]\n",
    "\n",
    "np = pd.concat(casecont, axis=1)\n",
    "np = pd.concat([np,pd.DataFrame(np.sum(axis=0),columns=['Total']).T]).fillna(0)\n",
    "np = np.reset_index()\n",
    "np.columns = ['SEC', '% cases', '% controls']\n",
    "\n",
    "np"
   ]
  },
  {
   "cell_type": "code",
   "execution_count": 21,
   "metadata": {
    "collapsed": false
   },
   "outputs": [
    {
     "data": {
      "text/plain": [
       "<matplotlib.axes._subplots.AxesSubplot at 0x7f88c73ef810>"
      ]
     },
     "execution_count": 21,
     "metadata": {},
     "output_type": "execute_result"
    },
    {
     "data": {
      "image/png": "[encoded data removed]",
      "text/plain": [
       "<matplotlib.figure.Figure at 0x7f88c73ef290>"
      ]
     },
     "metadata": {},
     "output_type": "display_data"
    }
   ],
   "source": [
    "pd.concat(casecont, axis=1).plot(kind='bar', title ='Percentage in each social class for cases and controls')"
   ]
  },
  {
   "cell_type": "code",
   "execution_count": 209,
   "metadata": {
    "collapsed": false
   },
   "outputs": [],
   "source": [
    "def whatsinthegroup(groupnum):\n",
    "    group = groupnum\n",
    "    socname = pd.DataFrame(jobclassification[group]).applymap(soclookup.get)\n",
    "    df = pd.concat([pd.DataFrame(jobclassification[group]), socname], axis=1)\n",
    "    df.columns = ['SOC90 code', jobgroups[group]]\n",
    "    return df"
   ]
  },
  {
   "cell_type": "code",
   "execution_count": 210,
   "metadata": {
    "collapsed": false
   },
   "outputs": [
    {
     "data": {
      "text/html": [
       "<div style=\"max-height:1000px;max-width:1500px;overflow:auto;\">\n",
       "<table border=\"1\" class=\"dataframe\">\n",
       "  <thead>\n",
       "    <tr style=\"text-align: right;\">\n",
       "      <th></th>\n",
       "      <th>SOC90 code</th>\n",
       "      <th>Non-construction high risk occupations</th>\n",
       "    </tr>\n",
       "  </thead>\n",
       "  <tbody>\n",
       "    <tr>\n",
       "      <th>0</th>\n",
       "      <td>69</td>\n",
       "      <td>None</td>\n",
       "    </tr>\n",
       "    <tr>\n",
       "      <th>1</th>\n",
       "      <td>173</td>\n",
       "      <td>Hotel and accommodation managers</td>\n",
       "    </tr>\n",
       "    <tr>\n",
       "      <th>2</th>\n",
       "      <td>174</td>\n",
       "      <td>Restaurant and catering managers</td>\n",
       "    </tr>\n",
       "    <tr>\n",
       "      <th>3</th>\n",
       "      <td>239</td>\n",
       "      <td>Other teaching professionals n.e.c.</td>\n",
       "    </tr>\n",
       "    <tr>\n",
       "      <th>4</th>\n",
       "      <td>332</td>\n",
       "      <td>Ship and hovercraft officers</td>\n",
       "    </tr>\n",
       "    <tr>\n",
       "      <th>5</th>\n",
       "      <td>385</td>\n",
       "      <td>Musicians</td>\n",
       "    </tr>\n",
       "    <tr>\n",
       "      <th>6</th>\n",
       "      <td>463</td>\n",
       "      <td>Radio and telegraph operators, other office co...</td>\n",
       "    </tr>\n",
       "    <tr>\n",
       "      <th>7</th>\n",
       "      <td>533</td>\n",
       "      <td>Sheet metal workers</td>\n",
       "    </tr>\n",
       "    <tr>\n",
       "      <th>8</th>\n",
       "      <td>534</td>\n",
       "      <td>Metal plate workers, shipwrights, riveters</td>\n",
       "    </tr>\n",
       "    <tr>\n",
       "      <th>9</th>\n",
       "      <td>541</td>\n",
       "      <td>Coach and vehicle body builders</td>\n",
       "    </tr>\n",
       "    <tr>\n",
       "      <th>10</th>\n",
       "      <td>620</td>\n",
       "      <td>Chefs, cooks</td>\n",
       "    </tr>\n",
       "    <tr>\n",
       "      <th>11</th>\n",
       "      <td>621</td>\n",
       "      <td>Waiters, waitresses</td>\n",
       "    </tr>\n",
       "    <tr>\n",
       "      <th>12</th>\n",
       "      <td>630</td>\n",
       "      <td>Travel and flight attendants</td>\n",
       "    </tr>\n",
       "    <tr>\n",
       "      <th>13</th>\n",
       "      <td>880</td>\n",
       "      <td>Seafarers (merchant navy); barge, lighter and ...</td>\n",
       "    </tr>\n",
       "    <tr>\n",
       "      <th>14</th>\n",
       "      <td>893</td>\n",
       "      <td>Electrical, energy, boiler and related plant o...</td>\n",
       "    </tr>\n",
       "    <tr>\n",
       "      <th>15</th>\n",
       "      <td>896</td>\n",
       "      <td>Construction and related operatives</td>\n",
       "    </tr>\n",
       "    <tr>\n",
       "      <th>16</th>\n",
       "      <td>900</td>\n",
       "      <td>Farm workers</td>\n",
       "    </tr>\n",
       "    <tr>\n",
       "      <th>17</th>\n",
       "      <td>903</td>\n",
       "      <td>Fishing and related workers</td>\n",
       "    </tr>\n",
       "    <tr>\n",
       "      <th>18</th>\n",
       "      <td>921</td>\n",
       "      <td>Mates to building trades workers</td>\n",
       "    </tr>\n",
       "    <tr>\n",
       "      <th>19</th>\n",
       "      <td>929</td>\n",
       "      <td>Other building and civil engineering labourers...</td>\n",
       "    </tr>\n",
       "    <tr>\n",
       "      <th>20</th>\n",
       "      <td>930</td>\n",
       "      <td>Stevedores, dockers</td>\n",
       "    </tr>\n",
       "    <tr>\n",
       "      <th>21</th>\n",
       "      <td>952</td>\n",
       "      <td>Kitchen porters, hands</td>\n",
       "    </tr>\n",
       "    <tr>\n",
       "      <th>22</th>\n",
       "      <td>953</td>\n",
       "      <td>Counterhands, catering assistants</td>\n",
       "    </tr>\n",
       "    <tr>\n",
       "      <th>23</th>\n",
       "      <td>990</td>\n",
       "      <td>All other labourers and related workers</td>\n",
       "    </tr>\n",
       "  </tbody>\n",
       "</table>\n",
       "</div>"
      ],
      "text/plain": [
       "    SOC90 code             Non-construction high risk occupations\n",
       "0           69                                               None\n",
       "1          173                   Hotel and accommodation managers\n",
       "2          174                   Restaurant and catering managers\n",
       "3          239                Other teaching professionals n.e.c.\n",
       "4          332                       Ship and hovercraft officers\n",
       "5          385                                          Musicians\n",
       "6          463  Radio and telegraph operators, other office co...\n",
       "7          533                                Sheet metal workers\n",
       "8          534         Metal plate workers, shipwrights, riveters\n",
       "9          541                    Coach and vehicle body builders\n",
       "10         620                                       Chefs, cooks\n",
       "11         621                                Waiters, waitresses\n",
       "12         630                       Travel and flight attendants\n",
       "13         880  Seafarers (merchant navy); barge, lighter and ...\n",
       "14         893  Electrical, energy, boiler and related plant o...\n",
       "15         896                Construction and related operatives\n",
       "16         900                                       Farm workers\n",
       "17         903                        Fishing and related workers\n",
       "18         921                   Mates to building trades workers\n",
       "19         929  Other building and civil engineering labourers...\n",
       "20         930                                Stevedores, dockers\n",
       "21         952                             Kitchen porters, hands\n",
       "22         953                  Counterhands, catering assistants\n",
       "23         990            All other labourers and related workers"
      ]
     },
     "execution_count": 210,
     "metadata": {},
     "output_type": "execute_result"
    }
   ],
   "source": [
    "whatsinthegroup(1)"
   ]
  }
 ],
 "metadata": {
  "celltoolbar": "Raw Cell Format",
  "kernelspec": {
   "display_name": "Python 2",
   "language": "python",
   "name": "python2"
  },
  "language_info": {
   "codemirror_mode": {
    "name": "ipython",
    "version": 2
   },
   "file_extension": ".py",
   "mimetype": "text/x-python",
   "name": "python",
   "nbconvert_exporter": "python",
   "pygments_lexer": "ipython2",
   "version": "2.7.6"
  }
 },
 "nbformat": 4,
 "nbformat_minor": 0
}
