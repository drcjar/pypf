{
 "metadata": {
  "name": "",
  "signature": "sha256:083b42ac227b73138937bf3b31e67785842bdf3d03a650d3f6435d898fb1ec1b"
 },
 "nbformat": 3,
 "nbformat_minor": 0,
 "worksheets": [
  {
   "cells": [
    {
     "cell_type": "heading",
     "level": 3,
     "metadata": {},
     "source": [
      "Lets make pictures"
     ]
    },
    {
     "cell_type": "code",
     "collapsed": false,
     "input": [
      "import pandas as pd\n",
      "from pandas import DataFrame\n",
      "import pickle\n",
      "import matplotlib.pyplot as plt\n",
      "import matplotlib.dates as mdates\n",
      "%matplotlib inline\n"
     ],
     "language": "python",
     "metadata": {},
     "outputs": [],
     "prompt_number": 14
    },
    {
     "cell_type": "code",
     "collapsed": false,
     "input": [
      "df = pd.read_pickle('.././data/pickle/pypf_prep.pkl')\n",
      "df.index = df.Year\n",
      "#df1 = df #lets save this result\n",
      "#df = df[df['Agegroup'] != 'ALL AGES'] #lets throw away all ages rows"
     ],
     "language": "python",
     "metadata": {},
     "outputs": [],
     "prompt_number": 15
    },
    {
     "cell_type": "code",
     "collapsed": false,
     "input": [
      "#graph a la Navaratnam 2011\n",
      "\n",
      "grp = df[(df['Cause'] == 'IPF') & (df['Year'] < pd.to_datetime('2009')) & (df['Agegroup'] == 'ALL AGES')].groupby('Year')\n",
      "\n",
      "data = grp['Estimated deaths age standardised to 2008 population'].sum()\n",
      "\n",
      "major = mdates.YearLocator(2)\n",
      "minor = mdates.MonthLocator()\n",
      "\n",
      "plt.figure(figsize=(7, 7))\n",
      "x = data.index\n",
      "y = data.values\n",
      "\n",
      "plt.xticks(rotation=70)\n",
      "plt.ylim((0,3500))\n",
      "plt.ylabel('Deaths')\n",
      "plt.xlabel('Year')\n",
      "plt.title('Mortality trends in England and Wales for IPF')\n",
      "\n",
      "plt.annotate(\"ICD-9(1979)\", (pd.to_datetime('1979'), 1000), (pd.to_datetime('1976'), 1500), \n",
      "               arrowprops=dict(arrowstyle=\"->\")) \n",
      "plt.annotate(\"ICD-10(2000)\", (pd.to_datetime('2000'), 2500), (pd.to_datetime('1997'), 3000), \n",
      "               arrowprops=dict(arrowstyle=\"->\")) \n",
      "plt.grid(True)\n",
      "p1, = plt.plot(x, y, 'k--', linewidth=2.0) \n",
      "\n",
      "ax = plt.gca()\n",
      "ax.xaxis.set_major_locator(major)\n",
      "legend([p1], [\"Expected number of deaths\"], loc='upper left', frameon=False)\n",
      "\n",
      "#ax.xaxis.set_minor_locator(minor)\n",
      "\n",
      "savefig('.././fig/IPF mortality trends in England and Wales to 2008.png')"
     ],
     "language": "python",
     "metadata": {},
     "outputs": [
      {
       "ename": "NameError",
       "evalue": "name 'legend' is not defined",
       "output_type": "pyerr",
       "traceback": [
        "\u001b[1;31m---------------------------------------------------------------------------\u001b[0m\n\u001b[1;31mNameError\u001b[0m                                 Traceback (most recent call last)",
        "\u001b[1;32m<ipython-input-16-e6caa0cb2aa3>\u001b[0m in \u001b[0;36m<module>\u001b[1;34m()\u001b[0m\n\u001b[0;32m     27\u001b[0m \u001b[0max\u001b[0m \u001b[1;33m=\u001b[0m \u001b[0mplt\u001b[0m\u001b[1;33m.\u001b[0m\u001b[0mgca\u001b[0m\u001b[1;33m(\u001b[0m\u001b[1;33m)\u001b[0m\u001b[1;33m\u001b[0m\u001b[0m\n\u001b[0;32m     28\u001b[0m \u001b[0max\u001b[0m\u001b[1;33m.\u001b[0m\u001b[0mxaxis\u001b[0m\u001b[1;33m.\u001b[0m\u001b[0mset_major_locator\u001b[0m\u001b[1;33m(\u001b[0m\u001b[0mmajor\u001b[0m\u001b[1;33m)\u001b[0m\u001b[1;33m\u001b[0m\u001b[0m\n\u001b[1;32m---> 29\u001b[1;33m \u001b[0mlegend\u001b[0m\u001b[1;33m(\u001b[0m\u001b[1;33m[\u001b[0m\u001b[0mp1\u001b[0m\u001b[1;33m]\u001b[0m\u001b[1;33m,\u001b[0m \u001b[1;33m[\u001b[0m\u001b[1;34m\"Expected number of deaths\"\u001b[0m\u001b[1;33m]\u001b[0m\u001b[1;33m,\u001b[0m \u001b[0mloc\u001b[0m\u001b[1;33m=\u001b[0m\u001b[1;34m'upper left'\u001b[0m\u001b[1;33m,\u001b[0m \u001b[0mframeon\u001b[0m\u001b[1;33m=\u001b[0m\u001b[0mFalse\u001b[0m\u001b[1;33m)\u001b[0m\u001b[1;33m\u001b[0m\u001b[0m\n\u001b[0m\u001b[0;32m     30\u001b[0m \u001b[1;33m\u001b[0m\u001b[0m\n\u001b[0;32m     31\u001b[0m \u001b[1;31m#ax.xaxis.set_minor_locator(minor)\u001b[0m\u001b[1;33m\u001b[0m\u001b[1;33m\u001b[0m\u001b[0m\n",
        "\u001b[1;31mNameError\u001b[0m: name 'legend' is not defined"
       ]
      },
      {
       "metadata": {},
       "output_type": "display_data",
       "png": "[encoded data removed]",
       "text": [
        "<matplotlib.figure.Figure at 0x7f94da354fd0>"
       ]
      }
     ],
     "prompt_number": 16
    },
    {
     "cell_type": "code",
     "collapsed": false,
     "input": [
      "#graph a la Navaratnam 2011\n",
      "\n",
      "grp = df[(df['Cause'] == 'IPF') &(df['Agegroup'] == 'ALL AGES')].groupby('Year')\n",
      "\n",
      "data = grp['Estimated deaths age standardised to 2008 population'].sum()\n",
      "\n",
      "major = mdates.YearLocator(2)\n",
      "minor = mdates.MonthLocator()\n",
      "\n",
      "plt.figure(figsize=(7, 7))\n",
      "x = data.index\n",
      "y = data.values\n",
      "\n",
      "plt.xticks(rotation=70)\n",
      "plt.ylim((0,4000))\n",
      "plt.ylabel('Deaths')\n",
      "plt.xlabel('Year')\n",
      "plt.title('Mortality trends in England and Wales for IPF')\n",
      "\n",
      "plt.annotate(\"ICD-9(1979)\", (pd.to_datetime('1979'), 1000), (pd.to_datetime('1976'), 1500), \n",
      "               arrowprops=dict(arrowstyle=\"->\")) \n",
      "plt.annotate(\"ICD-10(2000)\", (pd.to_datetime('2000'), 2500), (pd.to_datetime('1997'), 3000), \n",
      "               arrowprops=dict(arrowstyle=\"->\")) \n",
      "plt.grid(True)\n",
      "p1, = plt.plot(x, y, 'k--', linewidth=2.0) \n",
      "\n",
      "ax = plt.gca()\n",
      "ax.xaxis.set_major_locator(major)\n",
      "ax.legend([p1], [\"Expected number of deaths\"], loc='upper left', frameon=False)\n",
      "\n",
      "#ax.xaxis.set_minor_locator(minor)\n",
      "\n",
      "plt.savefig('.././fig/IPF mortality trends in England and Wales to 2012.png')"
     ],
     "language": "python",
     "metadata": {},
     "outputs": [
      {
       "metadata": {},
       "output_type": "display_data",
       "png": "[encoded data removed]",
       "text": [
        "<matplotlib.figure.Figure at 0x7f94da024110>"
       ]
      }
     ],
     "prompt_number": 19
    },
    {
     "cell_type": "code",
     "collapsed": false,
     "input": [
      "grp = df[(df['Cause'] == 'IPF') & (df['Sex'] == 'Male') & (df['Agegroup'] == 'ALL AGES')].groupby('Year')\n",
      "data = grp['Estimated deaths age standardised to 2008 population'].sum()\n",
      "\n",
      "grp = df[(df['Cause'] == 'IPF') & (df['Sex'] == 'Female') & (df['Agegroup'] == 'ALL AGES')].groupby('Year')\n",
      "data1 = grp['Estimated deaths age standardised to 2008 population'].sum()\n",
      "\n",
      "major = mdates.YearLocator(2)\n",
      "minor = mdates.MonthLocator()\n",
      "\n",
      "plt.figure(figsize=(7, 7))\n",
      "x = data.index\n",
      "y = data.values\n",
      "\n",
      "x1 = data1.index\n",
      "y1 = data1.values\n",
      "\n",
      "\n",
      "plt.xticks(rotation=70)\n",
      "\n",
      "plt.ylim((0,3000))\n",
      "plt.ylabel('Estimated number of deaths age standardised to 2008 population')\n",
      "plt.xlabel('Year')\n",
      "plt.title('Mortality trends in England and Wales for Males and Females for IPF')\n",
      "#plt.annotate(\"ICD-9(1979)\", (pd.to_datetime('1979'), 1000), (pd.to_datetime('1976'), 1500), \n",
      "              # arrowprops=dict(arrowstyle=\"->\")) \n",
      "#plt.annotate(\"ICD-10(2000)\", (pd.to_datetime('2000'), 2500), (pd.to_datetime('1997'), 3000), \n",
      "              # arrowprops=dict(arrowstyle=\"->\")) \n",
      "plt.grid(True)\n",
      "p1, = plt.plot(x, y, 'k--', linewidth=2.0) \n",
      "p2, = plt.plot(x1, y1,'k-', linewidth=2.0) \n",
      "\n",
      "ax = plt.gca()\n",
      "ax.xaxis.set_major_locator(major)\n",
      "ax.legend([p1, p2], [\"Expected number of deaths (male)\", \"Expected number of deaths (female)\"], loc='upper left', frameon=False)\n",
      "\n",
      "plt.savefig('.././fig/IPF mortality trends in England and Wales for Males and Females.png')"
     ],
     "language": "python",
     "metadata": {},
     "outputs": [
      {
       "metadata": {},
       "output_type": "display_data",
       "png": "[encoded data removed]",
       "text": [
        "<matplotlib.figure.Figure at 0x7f94dccc3f50>"
       ]
      }
     ],
     "prompt_number": 20
    },
    {
     "cell_type": "code",
     "collapsed": false,
     "input": [
      "df_male = df[(df['Sex'] == 'Male') & (df['Agegroup'] == 'ALL AGES')]\n",
      "\n",
      "grp = df_male[df_male['Cause'] == 'IPF'].groupby('Year')\n",
      "data = grp['Estimated deaths age standardised to 2008 population'].sum()\n",
      "\n",
      "\n",
      "grp = df_male[(df_male['Cause'] == 'All Mesothelioma') & (df_male['Year'] < pd.to_datetime('2001'))].groupby('Year') \n",
      "data1 = grp['Estimated deaths age standardised to 2008 population'].sum()#all meso\n",
      "\n",
      "grp = df_male[(df_male['Cause'] == 'All Mesothelioma') & (df_male['Year'] > pd.to_datetime('2000'))].groupby('Year') \n",
      "data2 = grp['Estimated deaths age standardised to 2008 population'].sum()#all meso\n",
      "\n",
      "grp = df_male[df_male['Cause'] == 'Asbestosis'].groupby('Year')\n",
      "data3 = grp['Estimated deaths age standardised to 2008 population'].sum()\n",
      "\n",
      "#grp = df_male[df_male['Cause'] == 'Mesothelioma_other'].groupby('Year') #all non pulmonary\n",
      "#data = grp['Estimated deaths age standardised to 2008 population'].sum() \n",
      "\n",
      "#grp = df_male[df_male['Cause'] == 'Mesothelioma'].groupby('Year') #pulmonary\n",
      "#data1 = grp['Estimated deaths age standardised to 2008 population'].sum()\n",
      "\n",
      "\n",
      "#make an (ugly) graph a la Navaratnam\n",
      "#grp = dffinal6[(dffinal6['Cause'] == 'IPF') & (dffinal6['Sex'] == 'Male')].groupby('Year')\n",
      "#data = grp['Estimated deaths age standardised to 2008 population'].sum()\n",
      "\n",
      "#grp = dffinal6[(dffinal6['Cause'] == 'IPF') & (dffinal6['Sex'] == 'Female')].groupby('Year')\n",
      "#data1 = grp['Estimated deaths age standardised to 2008 population'].sum()\n",
      "\n",
      "plt.figure(figsize=(7, 7))\n",
      "x = data.index\n",
      "y = data.values\n",
      "\n",
      "x1 = data1.index\n",
      "y1 = data1.values\n",
      "\n",
      "x2 = data2.index\n",
      "y2 = data2.values\n",
      "\n",
      "x3 = data3.index\n",
      "y3 = data3.values\n",
      "\n",
      "major = mdates.YearLocator(2)\n",
      "minor = mdates.MonthLocator()\n",
      "plt.xticks(rotation=70)\n",
      "\n",
      "plt.ylim((0,3000))\n",
      "plt.ylabel('Estimated number of deaths age standardised to 2008 population')\n",
      "plt.xlabel('Year')\n",
      "plt.title('Mortality trends in England and Wales for Males \\n for IPF, Mesothelioma, and Asbestosis')\n",
      "#plt.annotate(\"ICD-9(1979)\", (pd.to_datetime('1979'), 1000), (pd.to_datetime('1976'), 1500), \n",
      "              # arrowprops=dict(arrowstyle=\"->\")) \n",
      "#plt.annotate(\"ICD-10(2000)\", (pd.to_datetime('2000'), 2500), (pd.to_datetime('1997'), 3000), \n",
      "              # arrowprops=dict(arrowstyle=\"->\")) \n",
      "plt.grid(True)\n",
      "p1, = plt.plot(x, y, 'k-', linewidth=2.0) \n",
      "p2, = plt.plot(x1, y1,'b--', linewidth=2.0) \n",
      "p3, = plt.plot(x2, y2, 'b-', linewidth=2.0) \n",
      "p4, = plt.plot(x3, y3, 'r-', linewidth=2.0) \n",
      "\n",
      "ax = plt.gca()\n",
      "ax.xaxis.set_major_locator(major)\n",
      "ax.legend([p1, p2, p3, p4], [\"Idiopathic Pulmonary Fibrosis\", \"Mesothelioma (pre ICD-10)\", \"Mesothelioma (ICD-10)\", \"Asbestosis\"], loc='upper left', frameon=False)\n",
      "\n",
      "plt.savefig('.././fig/IPF mortality trends in England and Wales for Males for IPF, Mesothelioma, and Asbestosis.png')"
     ],
     "language": "python",
     "metadata": {},
     "outputs": [
      {
       "metadata": {},
       "output_type": "display_data",
       "png": "[encoded data removed]",
       "text": [
        "<matplotlib.figure.Figure at 0x7f94dcaa2090>"
       ]
      }
     ],
     "prompt_number": 21
    },
    {
     "cell_type": "heading",
     "level": 3,
     "metadata": {},
     "source": [
      "Lets make mortality rate with confidence intervals as per navaratum"
     ]
    },
    {
     "cell_type": "code",
     "collapsed": false,
     "input": [
      "import numpy as np\n",
      "import scipy as sp\n",
      "import scipy.stats\n",
      "\n",
      "def mean_confidence_interval(data, confidence=0.95):\n",
      "    a = 1.0*np.array(data)\n",
      "    n = len(a)\n",
      "    m, se = np.mean(a), scipy.stats.sem(a)\n",
      "    h = se * sp.stats.t._ppf((1+confidence)/2., n-1)\n",
      "    #eturn m, m-h, m+h\n",
      "    return '%.2f (%.2f - %.2f)' % (m, m-h, m+h)"
     ],
     "language": "python",
     "metadata": {},
     "outputs": [],
     "prompt_number": 8
    },
    {
     "cell_type": "code",
     "collapsed": false,
     "input": [
      "#for a given period and cause this function calculates the national period population (in person-years), number of deaths \n",
      "#in the period and the standardised (to a 2008 population) number of deaths using our data by rolling up the region numbers\n",
      "#and years\n",
      "\n",
      "\n",
      "def year_analysis(period, cause):\n",
      "    perpop = []\n",
      "    perdeath = []\n",
      "    perstddeath = []\n",
      "    \n",
      "    for i, item in enumerate(period):\n",
      "        regpop = df[(df['Agegroup'] == 'ALL AGES') & (df['Year'] == pd.to_datetime(period[i])) & (df['Cause'] == cause)].groupby('Region').Population.sum()\n",
      "        natpop = sum(regpop)\n",
      "        perpop.append(natpop)\n",
      "        \n",
      "        regdeath = df[(df['Agegroup'] == 'ALL AGES') & (df['Year'] == pd.to_datetime(period[i])) & (df['Cause'] == cause)].groupby('Region')['Deaths'].sum()\n",
      "        natdeath = sum(regdeath)\n",
      "        perdeath.append(natdeath)  \n",
      "        \n",
      "        regstddeath = df[(df['Agegroup'] == 'ALL AGES') & (df['Year'] == pd.to_datetime(period[i])) & (df['Cause'] == cause)].groupby('Region')['Estimated deaths age standardised to 2008 population'].sum()\n",
      "        natstddeath = sum(regstddeath)\n",
      "        perstddeath.append(natstddeath)  \n",
      "        \n",
      "    n_years = len(period)\n",
      "    \n",
      "    period = ('%s - %s' % (period[0], period[n_years - 1]))\n",
      "    \n",
      "    deaths = sum(perdeath)\n",
      "    \n",
      "    person_years = ('%i' % (sum(perpop) / 1000000))\n",
      "     \n",
      "    standardised_deaths = ('%i' % sum(perstddeath))\n",
      "    \n",
      "    stdperrate = [(d / 54454723) * 100000 for d in perstddeath] #54454723 is 2008 nat pop\n",
      "    \n",
      "    stdperrate = mean_confidence_interval(stdperrate)\n",
      "    \n",
      "    return period, deaths, person_years, standardised_deaths, stdperrate\n",
      "    \n",
      "    \n",
      "#corrected meso is a special case...\n",
      "\n",
      "\n",
      "def year_analysis2(period, cause):\n",
      "    perpop = []\n",
      "    perdeath = []\n",
      "    perstddeath = []\n",
      "    \n",
      "    for i, item in enumerate(period):\n",
      "        regpop = df[(df['Agegroup'] == 'ALL AGES') & (df['Year'] == pd.to_datetime(period[i])) & (df['Cause'] == cause)].groupby('Region').Population.sum()\n",
      "        natpop = sum(regpop)\n",
      "        perpop.append(natpop)\n",
      "        \n",
      "        regdeath = df[(df['Agegroup'] == 'ALL AGES') & (df['Year'] == pd.to_datetime(period[i])) & (df['Cause'] == cause)].groupby('Region')['Deaths'].sum()\n",
      "        natdeath = sum(regdeath)\n",
      "        perdeath.append(natdeath)  \n",
      "        \n",
      "        regstddeath = df[(df['Agegroup'] == 'ALL AGES') & (df['Year'] == pd.to_datetime(period[i])) & (df['Cause'] == cause)].groupby('Region')['Corrected Meso Deaths'].sum()\n",
      "        natstddeath = sum(regstddeath)\n",
      "        perstddeath.append(natstddeath)  \n",
      "        \n",
      "    n_years = len(period)\n",
      "    \n",
      "    period = ('%s - %s' % (period[0], period[n_years - 1]))\n",
      "    \n",
      "    deaths = sum(perdeath)\n",
      "    \n",
      "    person_years = ('%i' % (sum(perpop) / 1000000))\n",
      "     \n",
      "    standardised_deaths = ('%i' % sum(perstddeath))\n",
      "    \n",
      "    stdperrate = [(d / 54454723) * 100000 for d in perstddeath] #54454723 is 2008 nat pop\n",
      "    \n",
      "    stdperrate = mean_confidence_interval(stdperrate)\n",
      "    \n",
      "    return period, deaths, person_years, standardised_deaths, stdperrate\n",
      "    \n",
      "\n",
      "        \n",
      "    \n",
      "\n",
      "        "
     ],
     "language": "python",
     "metadata": {},
     "outputs": [],
     "prompt_number": 22
    },
    {
     "cell_type": "code",
     "collapsed": false,
     "input": [
      "periods = {}\n",
      "periods[0] = ['1979', '1980', '1981', '1982', '1983']\n",
      "periods[1] = ['1984', '1985', '1986', '1987', '1988']\n",
      "periods[2] = ['1989', '1990', '1991', '1992', '1993', '1994']\n",
      "periods[3] = ['1995', '1996', '1997', '1998', '1999', '2000']\n",
      "periods[4] = ['2001', '2002', '2003', '2004']\n",
      "periods[5] = ['2005', '2006', '2007', '2008']\n",
      "periods[6] = ['2009', '2010', '2011', '2012']\n",
      "\n",
      "ipf_results = []\n",
      "asbestos_results = []\n",
      "all_meso_results = []\n",
      "cor_meso_results = []\n",
      "\n",
      "for i, item in enumerate(periods):\n",
      "    ipf_results.append(year_analysis(periods[i], 'IPF'))\n",
      "    asbestos_results.append(year_analysis(periods[i], 'Asbestosis'))\n",
      "    all_meso_results.append(year_analysis(periods[i], 'All Mesothelioma'))\n",
      "    \n",
      "    \n",
      "dfipf = pd.DataFrame(ipf_results, columns=['Period', 'Deaths', 'Person years (million)', 'Standardised Deaths (2008 population)', 'Standardised mortality rate per 100,000 (95% CI)'])\n",
      "dfasb = pd.DataFrame(asbestos_results, columns=['Period', 'Deaths', 'Person years (million)', 'Standardised Deaths (2008 population)', 'Standardised mortality rate per 100,000 (95% CI)'])\n",
      "dfmes1 = pd.DataFrame(all_meso_results, columns=['Period', 'Deaths', 'Person years (million)', 'Standardised Deaths (2008 population)', 'Standardised mortality rate per 100,000 (95% CI)'])\n",
      "\n"
     ],
     "language": "python",
     "metadata": {},
     "outputs": [],
     "prompt_number": 24
    },
    {
     "cell_type": "code",
     "collapsed": false,
     "input": [
      "dfmes1 = dfmes1[dfmes1['Deaths'] != 0] #throw away rows we lack data for\n",
      "dfmes = pd.concat([dfmes1]) #combine \n",
      "dfmes = dfmes.sort() #sort"
     ],
     "language": "python",
     "metadata": {},
     "outputs": [],
     "prompt_number": 26
    },
    {
     "cell_type": "code",
     "collapsed": false,
     "input": [
      "dfipf"
     ],
     "language": "python",
     "metadata": {},
     "outputs": [
      {
       "html": [
        "<div style=\"max-height:1000px;max-width:1500px;overflow:auto;\">\n",
        "<table border=\"1\" class=\"dataframe\">\n",
        "  <thead>\n",
        "    <tr style=\"text-align: right;\">\n",
        "      <th></th>\n",
        "      <th>Period</th>\n",
        "      <th>Deaths</th>\n",
        "      <th>Person years (million)</th>\n",
        "      <th>Standardised Deaths (2008 population)</th>\n",
        "      <th>Standardised mortality rate per 100,000 (95% CI)</th>\n",
        "    </tr>\n",
        "  </thead>\n",
        "  <tbody>\n",
        "    <tr>\n",
        "      <th>0</th>\n",
        "      <td> 1979 - 1983</td>\n",
        "      <td>  3846</td>\n",
        "      <td> 247</td>\n",
        "      <td>  4029</td>\n",
        "      <td> 1.48 (1.22 - 1.74)</td>\n",
        "    </tr>\n",
        "    <tr>\n",
        "      <th>1</th>\n",
        "      <td> 1984 - 1988</td>\n",
        "      <td>  5851</td>\n",
        "      <td> 249</td>\n",
        "      <td>  6378</td>\n",
        "      <td> 2.34 (2.19 - 2.50)</td>\n",
        "    </tr>\n",
        "    <tr>\n",
        "      <th>2</th>\n",
        "      <td> 1989 - 1994</td>\n",
        "      <td>  8584</td>\n",
        "      <td> 304</td>\n",
        "      <td>  9192</td>\n",
        "      <td> 2.81 (2.51 - 3.12)</td>\n",
        "    </tr>\n",
        "    <tr>\n",
        "      <th>3</th>\n",
        "      <td> 1995 - 2000</td>\n",
        "      <td> 11548</td>\n",
        "      <td> 310</td>\n",
        "      <td> 12162</td>\n",
        "      <td> 3.72 (3.35 - 4.10)</td>\n",
        "    </tr>\n",
        "    <tr>\n",
        "      <th>4</th>\n",
        "      <td> 2001 - 2004</td>\n",
        "      <td>  9597</td>\n",
        "      <td> 210</td>\n",
        "      <td>  9917</td>\n",
        "      <td> 4.55 (4.15 - 4.96)</td>\n",
        "    </tr>\n",
        "    <tr>\n",
        "      <th>5</th>\n",
        "      <td> 2005 - 2008</td>\n",
        "      <td> 11089</td>\n",
        "      <td> 215</td>\n",
        "      <td> 11193</td>\n",
        "      <td> 5.14 (4.60 - 5.67)</td>\n",
        "    </tr>\n",
        "    <tr>\n",
        "      <th>6</th>\n",
        "      <td> 2009 - 2012</td>\n",
        "      <td> 13770</td>\n",
        "      <td> 222</td>\n",
        "      <td> 13470</td>\n",
        "      <td> 6.18 (5.02 - 7.35)</td>\n",
        "    </tr>\n",
        "  </tbody>\n",
        "</table>\n",
        "</div>"
       ],
       "metadata": {},
       "output_type": "pyout",
       "prompt_number": 27,
       "text": [
        "        Period  Deaths Person years (million)  \\\n",
        "0  1979 - 1983    3846                    247   \n",
        "1  1984 - 1988    5851                    249   \n",
        "2  1989 - 1994    8584                    304   \n",
        "3  1995 - 2000   11548                    310   \n",
        "4  2001 - 2004    9597                    210   \n",
        "5  2005 - 2008   11089                    215   \n",
        "6  2009 - 2012   13770                    222   \n",
        "\n",
        "  Standardised Deaths (2008 population)  \\\n",
        "0                                  4029   \n",
        "1                                  6378   \n",
        "2                                  9192   \n",
        "3                                 12162   \n",
        "4                                  9917   \n",
        "5                                 11193   \n",
        "6                                 13470   \n",
        "\n",
        "  Standardised mortality rate per 100,000 (95% CI)  \n",
        "0                               1.48 (1.22 - 1.74)  \n",
        "1                               2.34 (2.19 - 2.50)  \n",
        "2                               2.81 (2.51 - 3.12)  \n",
        "3                               3.72 (3.35 - 4.10)  \n",
        "4                               4.55 (4.15 - 4.96)  \n",
        "5                               5.14 (4.60 - 5.67)  \n",
        "6                               6.18 (5.02 - 7.35)  "
       ]
      }
     ],
     "prompt_number": 27
    },
    {
     "cell_type": "code",
     "collapsed": false,
     "input": [
      "dfasb"
     ],
     "language": "python",
     "metadata": {},
     "outputs": [
      {
       "html": [
        "<div style=\"max-height:1000px;max-width:1500px;overflow:auto;\">\n",
        "<table border=\"1\" class=\"dataframe\">\n",
        "  <thead>\n",
        "    <tr style=\"text-align: right;\">\n",
        "      <th></th>\n",
        "      <th>Period</th>\n",
        "      <th>Deaths</th>\n",
        "      <th>Person years (million)</th>\n",
        "      <th>Standardised Deaths (2008 population)</th>\n",
        "      <th>Standardised mortality rate per 100,000 (95% CI)</th>\n",
        "    </tr>\n",
        "  </thead>\n",
        "  <tbody>\n",
        "    <tr>\n",
        "      <th>0</th>\n",
        "      <td> 1979 - 1983</td>\n",
        "      <td> 172</td>\n",
        "      <td> 247</td>\n",
        "      <td> 170</td>\n",
        "      <td> 0.06 (0.04 - 0.09)</td>\n",
        "    </tr>\n",
        "    <tr>\n",
        "      <th>1</th>\n",
        "      <td> 1984 - 1988</td>\n",
        "      <td> 208</td>\n",
        "      <td> 249</td>\n",
        "      <td> 227</td>\n",
        "      <td> 0.08 (0.07 - 0.10)</td>\n",
        "    </tr>\n",
        "    <tr>\n",
        "      <th>2</th>\n",
        "      <td> 1989 - 1994</td>\n",
        "      <td> 325</td>\n",
        "      <td> 304</td>\n",
        "      <td> 349</td>\n",
        "      <td> 0.11 (0.10 - 0.12)</td>\n",
        "    </tr>\n",
        "    <tr>\n",
        "      <th>3</th>\n",
        "      <td> 1995 - 2000</td>\n",
        "      <td> 348</td>\n",
        "      <td> 310</td>\n",
        "      <td> 367</td>\n",
        "      <td> 0.11 (0.10 - 0.12)</td>\n",
        "    </tr>\n",
        "    <tr>\n",
        "      <th>4</th>\n",
        "      <td> 2001 - 2004</td>\n",
        "      <td> 364</td>\n",
        "      <td> 210</td>\n",
        "      <td> 376</td>\n",
        "      <td> 0.17 (0.13 - 0.22)</td>\n",
        "    </tr>\n",
        "    <tr>\n",
        "      <th>5</th>\n",
        "      <td> 2005 - 2008</td>\n",
        "      <td> 495</td>\n",
        "      <td> 215</td>\n",
        "      <td> 500</td>\n",
        "      <td> 0.23 (0.20 - 0.26)</td>\n",
        "    </tr>\n",
        "    <tr>\n",
        "      <th>6</th>\n",
        "      <td> 2009 - 2012</td>\n",
        "      <td> 723</td>\n",
        "      <td> 222</td>\n",
        "      <td> 708</td>\n",
        "      <td> 0.33 (0.28 - 0.37)</td>\n",
        "    </tr>\n",
        "  </tbody>\n",
        "</table>\n",
        "</div>"
       ],
       "metadata": {},
       "output_type": "pyout",
       "prompt_number": 28,
       "text": [
        "        Period  Deaths Person years (million)  \\\n",
        "0  1979 - 1983     172                    247   \n",
        "1  1984 - 1988     208                    249   \n",
        "2  1989 - 1994     325                    304   \n",
        "3  1995 - 2000     348                    310   \n",
        "4  2001 - 2004     364                    210   \n",
        "5  2005 - 2008     495                    215   \n",
        "6  2009 - 2012     723                    222   \n",
        "\n",
        "  Standardised Deaths (2008 population)  \\\n",
        "0                                   170   \n",
        "1                                   227   \n",
        "2                                   349   \n",
        "3                                   367   \n",
        "4                                   376   \n",
        "5                                   500   \n",
        "6                                   708   \n",
        "\n",
        "  Standardised mortality rate per 100,000 (95% CI)  \n",
        "0                               0.06 (0.04 - 0.09)  \n",
        "1                               0.08 (0.07 - 0.10)  \n",
        "2                               0.11 (0.10 - 0.12)  \n",
        "3                               0.11 (0.10 - 0.12)  \n",
        "4                               0.17 (0.13 - 0.22)  \n",
        "5                               0.23 (0.20 - 0.26)  \n",
        "6                               0.33 (0.28 - 0.37)  "
       ]
      }
     ],
     "prompt_number": 28
    },
    {
     "cell_type": "code",
     "collapsed": false,
     "input": [
      "dfmes"
     ],
     "language": "python",
     "metadata": {},
     "outputs": [
      {
       "html": [
        "<div style=\"max-height:1000px;max-width:1500px;overflow:auto;\">\n",
        "<table border=\"1\" class=\"dataframe\">\n",
        "  <thead>\n",
        "    <tr style=\"text-align: right;\">\n",
        "      <th></th>\n",
        "      <th>Period</th>\n",
        "      <th>Deaths</th>\n",
        "      <th>Person years (million)</th>\n",
        "      <th>Standardised Deaths (2008 population)</th>\n",
        "      <th>Standardised mortality rate per 100,000 (95% CI)</th>\n",
        "    </tr>\n",
        "  </thead>\n",
        "  <tbody>\n",
        "    <tr>\n",
        "      <th>0</th>\n",
        "      <td> 1979 - 1983</td>\n",
        "      <td> 2446.223216</td>\n",
        "      <td> 247</td>\n",
        "      <td> 2540</td>\n",
        "      <td> 0.93 (0.72 - 1.15)</td>\n",
        "    </tr>\n",
        "    <tr>\n",
        "      <th>1</th>\n",
        "      <td> 1984 - 1988</td>\n",
        "      <td> 3192.247558</td>\n",
        "      <td> 249</td>\n",
        "      <td> 3491</td>\n",
        "      <td> 1.28 (1.17 - 1.40)</td>\n",
        "    </tr>\n",
        "    <tr>\n",
        "      <th>2</th>\n",
        "      <td> 1989 - 1994</td>\n",
        "      <td> 5453.305493</td>\n",
        "      <td> 304</td>\n",
        "      <td> 5875</td>\n",
        "      <td> 1.80 (1.39 - 2.21)</td>\n",
        "    </tr>\n",
        "    <tr>\n",
        "      <th>3</th>\n",
        "      <td> 1995 - 2000</td>\n",
        "      <td> 8816.424768</td>\n",
        "      <td> 310</td>\n",
        "      <td> 9298</td>\n",
        "      <td> 2.85 (2.42 - 3.27)</td>\n",
        "    </tr>\n",
        "    <tr>\n",
        "      <th>4</th>\n",
        "      <td> 2001 - 2004</td>\n",
        "      <td> 6502.000000</td>\n",
        "      <td> 210</td>\n",
        "      <td> 6741</td>\n",
        "      <td> 3.10 (3.01 - 3.18)</td>\n",
        "    </tr>\n",
        "    <tr>\n",
        "      <th>5</th>\n",
        "      <td> 2005 - 2008</td>\n",
        "      <td> 7368.000000</td>\n",
        "      <td> 215</td>\n",
        "      <td> 7448</td>\n",
        "      <td> 3.42 (3.20 - 3.64)</td>\n",
        "    </tr>\n",
        "    <tr>\n",
        "      <th>6</th>\n",
        "      <td> 2009 - 2012</td>\n",
        "      <td> 8474.000000</td>\n",
        "      <td> 222</td>\n",
        "      <td> 8290</td>\n",
        "      <td> 3.81 (3.68 - 3.93)</td>\n",
        "    </tr>\n",
        "  </tbody>\n",
        "</table>\n",
        "</div>"
       ],
       "metadata": {},
       "output_type": "pyout",
       "prompt_number": 29,
       "text": [
        "        Period       Deaths Person years (million)  \\\n",
        "0  1979 - 1983  2446.223216                    247   \n",
        "1  1984 - 1988  3192.247558                    249   \n",
        "2  1989 - 1994  5453.305493                    304   \n",
        "3  1995 - 2000  8816.424768                    310   \n",
        "4  2001 - 2004  6502.000000                    210   \n",
        "5  2005 - 2008  7368.000000                    215   \n",
        "6  2009 - 2012  8474.000000                    222   \n",
        "\n",
        "  Standardised Deaths (2008 population)  \\\n",
        "0                                  2540   \n",
        "1                                  3491   \n",
        "2                                  5875   \n",
        "3                                  9298   \n",
        "4                                  6741   \n",
        "5                                  7448   \n",
        "6                                  8290   \n",
        "\n",
        "  Standardised mortality rate per 100,000 (95% CI)  \n",
        "0                               0.93 (0.72 - 1.15)  \n",
        "1                               1.28 (1.17 - 1.40)  \n",
        "2                               1.80 (1.39 - 2.21)  \n",
        "3                               2.85 (2.42 - 3.27)  \n",
        "4                               3.10 (3.01 - 3.18)  \n",
        "5                               3.42 (3.20 - 3.64)  \n",
        "6                               3.81 (3.68 - 3.93)  "
       ]
      }
     ],
     "prompt_number": 29
    },
    {
     "cell_type": "code",
     "collapsed": false,
     "input": [
      "df[(df['Cause'] == 'IPF') & (df['Sex'] == 'Male') & (df['Agegroup'] == 'ALL AGES')].Deaths.sum()"
     ],
     "language": "python",
     "metadata": {},
     "outputs": [
      {
       "metadata": {},
       "output_type": "pyout",
       "prompt_number": 30,
       "text": [
        "41249.0"
       ]
      }
     ],
     "prompt_number": 30
    },
    {
     "cell_type": "code",
     "collapsed": false,
     "input": [
      "df[(df['Cause'] == 'IPF') & (df['Sex'] == 'Female') & (df['Agegroup'] == 'ALL AGES')].Deaths.sum()"
     ],
     "language": "python",
     "metadata": {},
     "outputs": [
      {
       "metadata": {},
       "output_type": "pyout",
       "prompt_number": 31,
       "text": [
        "25992.0"
       ]
      }
     ],
     "prompt_number": 31
    },
    {
     "cell_type": "code",
     "collapsed": false,
     "input": [
      "df[(df['Cause'] == 'IPF') & (df['Sex'] == 'Male') & (df['Agegroup'] == 'ALL AGES')].Population.sum() / 1000000"
     ],
     "language": "python",
     "metadata": {},
     "outputs": [
      {
       "metadata": {},
       "output_type": "pyout",
       "prompt_number": 32,
       "text": [
        "980.56322699999998"
       ]
      }
     ],
     "prompt_number": 32
    },
    {
     "cell_type": "code",
     "collapsed": false,
     "input": [
      "df[(df['Cause'] == 'IPF') & (df['Sex'] == 'Female') & (df['Agegroup'] == 'ALL AGES')].Population.sum() / 1000000"
     ],
     "language": "python",
     "metadata": {},
     "outputs": [
      {
       "metadata": {},
       "output_type": "pyout",
       "prompt_number": 33,
       "text": [
        "1028.579778"
       ]
      }
     ],
     "prompt_number": 33
    },
    {
     "cell_type": "code",
     "collapsed": false,
     "input": [
      "grp = df[(df['Cause'] == 'IPF') & (df['Sex'] == 'Male') & (df['Agegroup'] == 'ALL AGES')].groupby('Year')\n",
      "grp = grp['Estimated deaths age standardised to 2008 population'].sum()\n",
      "grp = DataFrame(grp).reset_index()\n",
      "grp['Estimated deaths age standardised to 2008 population'].map(lambda x: (x/54454723) * 100000).mean()"
     ],
     "language": "python",
     "metadata": {},
     "outputs": [
      {
       "metadata": {},
       "output_type": "pyout",
       "prompt_number": 34,
       "text": [
        "2.0065384358154366"
       ]
      }
     ],
     "prompt_number": 34
    },
    {
     "cell_type": "code",
     "collapsed": false,
     "input": [
      "grp = df[(df['Cause'] == 'IPF') & (df['Sex'] == 'Female') & (df['Agegroup'] == 'ALL AGES')].groupby('Year')\n",
      "grp = grp['Estimated deaths age standardised to 2008 population'].sum()\n",
      "grp = DataFrame(grp).reset_index()\n",
      "grp['Estimated deaths age standardised to 2008 population'].map(lambda x: (x/54454723) * 100000).mean()"
     ],
     "language": "python",
     "metadata": {},
     "outputs": [
      {
       "metadata": {},
       "output_type": "pyout",
       "prompt_number": 35,
       "text": [
        "1.2507058693295507"
       ]
      }
     ],
     "prompt_number": 35
    },
    {
     "cell_type": "code",
     "collapsed": false,
     "input": [
      "2 / 1.25"
     ],
     "language": "python",
     "metadata": {},
     "outputs": [
      {
       "metadata": {},
       "output_type": "pyout",
       "prompt_number": 36,
       "text": [
        "1.6"
       ]
      }
     ],
     "prompt_number": 36
    },
    {
     "cell_type": "code",
     "collapsed": false,
     "input": [
      "grp = df[(df['Cause'] == 'IPF')].groupby('Agegroup')['Rate per 100,000 (standardised)'].mean()\n",
      "grp.sort()\n",
      "grp"
     ],
     "language": "python",
     "metadata": {},
     "outputs": [
      {
       "metadata": {},
       "output_type": "pyout",
       "prompt_number": 37,
       "text": [
        "Agegroup\n",
        "UNDER 25     0.021286\n",
        "25-34        0.048154\n",
        "35-44        0.164044\n",
        "45-54        0.731656\n",
        "55-64        3.363908\n",
        "ALL AGES     3.445875\n",
        "65-74       11.624223\n",
        "75-84       26.663022\n",
        "85+         37.749784\n",
        "Name: Rate per 100,000 (standardised), dtype: float64"
       ]
      }
     ],
     "prompt_number": 37
    },
    {
     "cell_type": "code",
     "collapsed": false,
     "input": [
      "grp = df[(df['Cause'] == 'IPF')].groupby('Region')['Rate per 100,000 (standardised)'].mean()\n",
      "grp.sort()\n",
      "grp"
     ],
     "language": "python",
     "metadata": {},
     "outputs": [
      {
       "metadata": {},
       "output_type": "pyout",
       "prompt_number": 38,
       "text": [
        "Region\n",
        "EAST                         7.976114\n",
        "SOUTH EAST                   8.312335\n",
        "LONDON                       8.707275\n",
        "YORKSHIRE AND THE HUMBER     8.908680\n",
        "SOUTH WEST                   9.190130\n",
        "EAST MIDLANDS                9.333159\n",
        "WEST MIDLANDS                9.459794\n",
        "NORTH EAST                  10.289851\n",
        "WALES                       10.495049\n",
        "NORTH WEST                  10.707523\n",
        "Name: Rate per 100,000 (standardised), dtype: float64"
       ]
      }
     ],
     "prompt_number": 38
    },
    {
     "cell_type": "code",
     "collapsed": false,
     "input": [
      "grp = df[(df['Cause'] == 'IPF') & (df['Sex'] == 'Female')].groupby('Region')['Rate per 100,000 (standardised)'].mean()\n",
      "grp.sort()\n",
      "grp\n"
     ],
     "language": "python",
     "metadata": {},
     "outputs": [
      {
       "metadata": {},
       "output_type": "pyout",
       "prompt_number": 39,
       "text": [
        "Region\n",
        "EAST                        4.737318\n",
        "SOUTH EAST                  4.900534\n",
        "YORKSHIRE AND THE HUMBER    5.053850\n",
        "LONDON                      5.411803\n",
        "SOUTH WEST                  5.640149\n",
        "WEST MIDLANDS               5.641900\n",
        "NORTH EAST                  5.692070\n",
        "EAST MIDLANDS               5.746785\n",
        "WALES                       6.168030\n",
        "NORTH WEST                  6.214628\n",
        "Name: Rate per 100,000 (standardised), dtype: float64"
       ]
      }
     ],
     "prompt_number": 39
    },
    {
     "cell_type": "code",
     "collapsed": false,
     "input": [
      "grp = df[(df['Cause'] == 'IPF') & (df['Sex'] == 'Male')].groupby('Region')['Rate per 100,000 (standardised)'].mean()\n",
      "grp.sort()\n",
      "grp\n"
     ],
     "language": "python",
     "metadata": {},
     "outputs": [
      {
       "metadata": {},
       "output_type": "pyout",
       "prompt_number": 40,
       "text": [
        "Region\n",
        "EAST                        11.214911\n",
        "SOUTH EAST                  11.724135\n",
        "LONDON                      12.002747\n",
        "SOUTH WEST                  12.740111\n",
        "YORKSHIRE AND THE HUMBER    12.763510\n",
        "EAST MIDLANDS               12.919534\n",
        "WEST MIDLANDS               13.277687\n",
        "WALES                       14.822068\n",
        "NORTH EAST                  14.887633\n",
        "NORTH WEST                  15.200417\n",
        "Name: Rate per 100,000 (standardised), dtype: float64"
       ]
      }
     ],
     "prompt_number": 40
    },
    {
     "cell_type": "code",
     "collapsed": false,
     "input": [
      "grp = df[(df['Cause'] == 'Asbestosis') & (df['Sex'] == 'Male')].groupby('Region')['Rate per 100,000 (standardised)'].mean()\n",
      "grp.sort()\n",
      "grp\n"
     ],
     "language": "python",
     "metadata": {},
     "outputs": [
      {
       "metadata": {},
       "output_type": "pyout",
       "prompt_number": 41,
       "text": [
        "Region\n",
        "EAST                        0.547326\n",
        "WALES                       0.643478\n",
        "WEST MIDLANDS               0.760362\n",
        "YORKSHIRE AND THE HUMBER    0.802830\n",
        "SOUTH EAST                  0.872112\n",
        "EAST MIDLANDS               0.960083\n",
        "SOUTH WEST                  1.098402\n",
        "LONDON                      1.316267\n",
        "NORTH WEST                  1.622810\n",
        "NORTH EAST                  3.072687\n",
        "Name: Rate per 100,000 (standardised), dtype: float64"
       ]
      }
     ],
     "prompt_number": 41
    },
    {
     "cell_type": "code",
     "collapsed": false,
     "input": [
      "grp = df[(df['Cause'] == 'All Mesothelioma') & (df['Sex'] == 'Male')].groupby('Region')['Rate per 100,000 (standardised)'].mean()\n",
      "grp.sort()\n",
      "grp\n"
     ],
     "language": "python",
     "metadata": {},
     "outputs": [
      {
       "metadata": {},
       "output_type": "pyout",
       "prompt_number": 42,
       "text": [
        "Region\n",
        "WALES                        6.184247\n",
        "EAST MIDLANDS                6.482373\n",
        "WEST MIDLANDS                6.525374\n",
        "SOUTH WEST                   7.618154\n",
        "EAST                         7.861819\n",
        "LONDON                       8.220906\n",
        "YORKSHIRE AND THE HUMBER     8.646171\n",
        "NORTH WEST                   8.965068\n",
        "SOUTH EAST                   9.205414\n",
        "NORTH EAST                  17.543943\n",
        "Name: Rate per 100,000 (standardised), dtype: float64"
       ]
      }
     ],
     "prompt_number": 42
    },
    {
     "cell_type": "code",
     "collapsed": false,
     "input": [],
     "language": "python",
     "metadata": {},
     "outputs": [],
     "prompt_number": 42
    },
    {
     "cell_type": "code",
     "collapsed": false,
     "input": [],
     "language": "python",
     "metadata": {},
     "outputs": []
    }
   ],
   "metadata": {}
  }
 ]
}