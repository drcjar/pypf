{
 "metadata": {
  "name": ""
 },
 "nbformat": 3,
 "nbformat_minor": 0,
 "worksheets": [
  {
   "cells": [
    {
     "cell_type": "code",
     "collapsed": false,
     "input": [
      "import pandas as pd\n",
      "import xlrd \n",
      "import numpy as np"
     ],
     "language": "python",
     "metadata": {},
     "outputs": [],
     "prompt_number": 1
    },
    {
     "cell_type": "code",
     "collapsed": false,
     "input": [
      "workbook = xlrd.open_workbook('./data/eng/Lung disease tables FINAL.xlsx') #what ONS sent\n",
      "print workbook.sheet_names()"
     ],
     "language": "python",
     "metadata": {},
     "outputs": [
      {
       "output_type": "stream",
       "stream": "stdout",
       "text": [
        "[u'Contents', u'Table 1', u'Table 2', u'Table 3', u'Table 4', u'Table 5', u'Table 6']\n"
       ]
      }
     ],
     "prompt_number": 2
    },
    {
     "cell_type": "code",
     "collapsed": false,
     "input": [
      "df = pd.read_excel('./data/eng/Lung disease tables FINAL.xlsx', 'Contents') #lets load the contents worksheet"
     ],
     "language": "python",
     "metadata": {},
     "outputs": [],
     "prompt_number": 3
    },
    {
     "cell_type": "code",
     "collapsed": false,
     "input": [
      "df.head() #lets look at the contents "
     ],
     "language": "python",
     "metadata": {},
     "outputs": [
      {
       "html": [
        "<div style=\"max-height:1000px;max-width:1500px;overflow:auto;\">\n",
        "<table border=\"1\" class=\"dataframe\">\n",
        "  <thead>\n",
        "    <tr style=\"text-align: right;\">\n",
        "      <th></th>\n",
        "      <th>Contents</th>\n",
        "      <th>Unnamed: 1</th>\n",
        "    </tr>\n",
        "  </thead>\n",
        "  <tbody>\n",
        "    <tr>\n",
        "      <th>0</th>\n",
        "      <td>     NaN</td>\n",
        "      <td>                                               NaN</td>\n",
        "    </tr>\n",
        "    <tr>\n",
        "      <th>1</th>\n",
        "      <td> Table 1</td>\n",
        "      <td> Number of deaths in each standard region of En...</td>\n",
        "    </tr>\n",
        "    <tr>\n",
        "      <th>2</th>\n",
        "      <td>  Table2</td>\n",
        "      <td> Number of deaths in each standard region of En...</td>\n",
        "    </tr>\n",
        "    <tr>\n",
        "      <th>3</th>\n",
        "      <td> Table 3</td>\n",
        "      <td> Number of deaths in each standard region of En...</td>\n",
        "    </tr>\n",
        "    <tr>\n",
        "      <th>4</th>\n",
        "      <td> Table 4</td>\n",
        "      <td> Number of deaths in each region of England and...</td>\n",
        "    </tr>\n",
        "  </tbody>\n",
        "</table>\n",
        "<p>5 rows \u00d7 2 columns</p>\n",
        "</div>"
       ],
       "metadata": {},
       "output_type": "pyout",
       "prompt_number": 4,
       "text": [
        "  Contents                                         Unnamed: 1\n",
        "0      NaN                                                NaN\n",
        "1  Table 1  Number of deaths in each standard region of En...\n",
        "2   Table2  Number of deaths in each standard region of En...\n",
        "3  Table 3  Number of deaths in each standard region of En...\n",
        "4  Table 4  Number of deaths in each region of England and...\n",
        "\n",
        "[5 rows x 2 columns]"
       ]
      }
     ],
     "prompt_number": 4
    },
    {
     "cell_type": "code",
     "collapsed": false,
     "input": [
      "df.columns = ['Name', 'Desc'] #lets have Name and Description columns for the worksheets\n",
      "df.fillna('n/a', inplace=True) #get rid on NaNs\n",
      "df = df[df['Name'].str.contains('Table')] #get rid of rows that aren't about our worksheets of interest\n",
      "df['Name'] = df['Name'].str.replace('Table2', 'Table 2') #correct ONS typo\n",
      "sheets = df.to_dict(outtype='records') #lets save our work as dict"
     ],
     "language": "python",
     "metadata": {},
     "outputs": [],
     "prompt_number": 5
    },
    {
     "cell_type": "code",
     "collapsed": false,
     "input": [
      "#lets make a shorthand table-disease lookup\n",
      "dis_lookup = {'Table 1':'IPF', 'Table 2':'Asbestosis', 'Table 3':'Mesothelioma', \n",
      "              'Table 4':'IPF', 'Table 5':'Asbestosis', 'Table 6':'Mesothelioma'} \n",
      "\n",
      "#a few transforms needed to make the ons data usable\n",
      "transforms = {'YORKSHIRE AND THE HUMBER':'YORKSHIRE AND THE HUMBER',\n",
      "              'YORKSHIRE & HUMBERSIDE':'YORKSHIRE AND THE HUMBER',\n",
      "              'YORKSHIRE & HUMBER':'YORKSHIRE AND THE HUMBER',\n",
      "              'NORTH WEST':'NORTH WEST',\n",
      "              'EAST MIDLANDS':'EAST MIDLANDS', 'WEST MIDLANDS':'WEST MIDLANDS',\n",
      "              'WEST MIDLANDS (REGION)':'WEST MIDLANDS', 'EAST':'EAST', \n",
      "              'SOUTH EAST':'SOUTH EAST', 'SOUTH WEST':'SOUTH WEST', 'WALES':'WALES', \n",
      "              'NORTH EAST':'NORTH EAST', 'LONDON':'LONDON', \n",
      "              'EASTERN':'EAST', 'EAST OF ENGLAND':'EAST', 'EAST ANGLIA':'EAST', 'NORTH':'NORTH EAST', \n",
      "              'YORKSHIRE AND HUMBERSIDE':'YORKSHIRE AND THE HUMBER'}\n",
      "\n",
      "sex_transforms = {'Unnamed: 2':'Male', 'Unnamed: 3':'Male', 'Unnamed: 4':'Male', 'Unnamed: 5':'Male',\n",
      "       'Unnamed: 6':'Male', 'Unnamed: 7':'Male', 'Unnamed: 8':'Male', 'Unnamed: 10':'Female',\n",
      "       'Unnamed: 11':'Female', 'Unnamed: 12':'Female', 'Unnamed: 13':'Female', 'Unnamed: 14':'Female',\n",
      "       'Unnamed: 15':'Female', 'Unnamed: 16':'Female'}\n",
      "\n",
      "year_transforms = {'Unnamed: 2':1974, 'Unnamed: 3':1975, 'Unnamed: 4':1976, 'Unnamed: 5':1977,\n",
      "       'Unnamed: 6':1978, 'Unnamed: 7':1979, 'Unnamed: 8':1980, 'Unnamed: 10':1974,\n",
      "       'Unnamed: 11':1975, 'Unnamed: 12':1976, 'Unnamed: 13':1977, 'Unnamed: 14':1978,\n",
      "       'Unnamed: 15':1979, 'Unnamed: 16':1980}\n",
      "\n",
      "#what we're expecting\n",
      "REGIONS = ['YORKSHIRE AND THE HUMBER', 'NORTH WEST','EAST MIDLANDS', 'WEST MIDLANDS', \n",
      "               'EAST', 'SOUTH EAST', 'SOUTH WEST', 'WALES', 'NORTH EAST', 'LONDON']\n",
      "\n",
      "AGEGROUPS = ['ALL AGES', 'UNDER 25', '25-34', '35-44', '45-54', '55-64', '65-74', '75-84', '85+']\n",
      "\n",
      "SEX = ['Male', 'Female']\n",
      "\n",
      "UNDERLYING_CAUSE = ['IPF', 'Asbestosis', 'Mesothelioma', 'Mesothelioma_other', 'Mesothelioma all']\n",
      "\n",
      "YEARS = ['1974'] \n",
      "for year in range(1975, 2013):\n",
      "    YEARS.append(str(year))\n"
     ],
     "language": "python",
     "metadata": {},
     "outputs": [],
     "prompt_number": 6
    },
    {
     "cell_type": "code",
     "collapsed": false,
     "input": [
      "#lets load the worksheets of interest into a list of dataframes using our dict\n",
      "df_list = [pd.read_excel('./data/eng/Lung disease tables FINAL.xlsx', sheet['Name']) for sheet in sheets] "
     ],
     "language": "python",
     "metadata": {},
     "outputs": [],
     "prompt_number": 7
    },
    {
     "cell_type": "code",
     "collapsed": false,
     "input": [
      "for i, item in enumerate(df_list):\n",
      "    df_list[i].rename(columns={'Contents Page':'Region'}, inplace=True)\n",
      "    df_list[i]['Region'] = df_list[i].icol(0).fillna(method='pad') #fix the first column\n",
      "    df_list[i]['Region'] = df_list[i]['Region'].str.strip()\n",
      "    df_list[i]['Region'] = df_list[i]['Region'].str.upper()\n",
      "    df_list[i]['Region'] = df_list[i]['Region'].map(transforms.get)   \n",
      "    df_list[i] = df_list[i][df_list[i]['Region'].notnull()] #throw away rows that don't contain a region\n",
      "\n",
      "    df_list[i].rename(columns={'Unnamed: 1':'Agegroup'}, inplace=True)\n",
      "    df_list[i]['Agegroup'] = df_list[i]['Agegroup'].str.strip()\n",
      "    df_list[i]['Agegroup'] = df_list[i]['Agegroup'].str.upper()\n",
      "\n",
      "    df_list[i] = df_list[i].dropna(axis=1, how='all') #throw away columns that don't contain data\n",
      "    \n",
      "    df_list[i] = pd.melt(df_list[i], id_vars=['Region', 'Agegroup'])\n",
      "\n",
      "    df_list[i]['Sex'] = df_list[i].variable.map(sex_transforms.get)\n",
      "    df_list[i]['Year'] = df_list[i].variable.map(year_transforms.get)\n",
      "    df_list[i].rename(columns={'value':'Deaths'}, inplace=True)\n",
      "    df_list[i] = df_list[i][['Region', 'Agegroup', 'Deaths', 'Sex', 'Year']]\n",
      "    df_list[i]['Underlying Cause'] = dis_lookup[sheets[i]['Name']]"
     ],
     "language": "python",
     "metadata": {},
     "outputs": [
      {
       "output_type": "stream",
       "stream": "stderr",
       "text": [
        "/usr/local/lib/python2.7/dist-packages/pandas/core/frame.py:2175: SettingWithCopyWarning: A value is trying to be set on a copy of a slice from a DataFrame\n",
        "  **kwargs)\n",
        "-c:10: SettingWithCopyWarning: A value is trying to be set on a copy of a slice from a DataFrame.\n",
        "Try using .loc[row_index,col_indexer] = value instead\n",
        "-c:11: SettingWithCopyWarning: A value is trying to be set on a copy of a slice from a DataFrame.\n",
        "Try using .loc[row_index,col_indexer] = value instead\n"
       ]
      }
     ],
     "prompt_number": 8
    },
    {
     "cell_type": "code",
     "collapsed": false,
     "input": [
      "#checks that our regions are all there\n",
      "for i, item in enumerate(df_list):\n",
      "    print i\n",
      "    print set(df_list[i]['Region']) - set(REGIONS)\n",
      "    print set(REGIONS) - set(df_list[i]['Region'])"
     ],
     "language": "python",
     "metadata": {},
     "outputs": [
      {
       "output_type": "stream",
       "stream": "stdout",
       "text": [
        "0\n",
        "set([])\n",
        "set(['LONDON'])\n",
        "1\n",
        "set([])\n",
        "set(['LONDON'])\n",
        "2\n",
        "set([])\n",
        "set(['LONDON'])\n",
        "3\n",
        "set([])\n",
        "set([])\n",
        "4\n",
        "set([])\n",
        "set([])\n",
        "5\n",
        "set([])\n",
        "set([])\n"
       ]
      }
     ],
     "prompt_number": 9
    },
    {
     "cell_type": "code",
     "collapsed": false,
     "input": [
      "df = pd.concat(df_list)"
     ],
     "language": "python",
     "metadata": {},
     "outputs": [],
     "prompt_number": 10
    },
    {
     "cell_type": "code",
     "collapsed": false,
     "input": [
      "df.Deaths.sum()"
     ],
     "language": "python",
     "metadata": {},
     "outputs": [
      {
       "metadata": {},
       "output_type": "pyout",
       "prompt_number": 11,
       "text": [
        "170324.0"
       ]
      }
     ],
     "prompt_number": 11
    },
    {
     "cell_type": "code",
     "collapsed": false,
     "input": [
      "#df.Year = pd.to_datetime(df.Year.astype(str))"
     ],
     "language": "python",
     "metadata": {},
     "outputs": [],
     "prompt_number": 12
    },
    {
     "cell_type": "code",
     "collapsed": false,
     "input": [
      "#df.index = df.Year"
     ],
     "language": "python",
     "metadata": {},
     "outputs": [],
     "prompt_number": 13
    },
    {
     "cell_type": "code",
     "collapsed": false,
     "input": [
      "#df.groupby('Year').Deaths.sum().plot()"
     ],
     "language": "python",
     "metadata": {},
     "outputs": [],
     "prompt_number": 14
    },
    {
     "cell_type": "code",
     "collapsed": false,
     "input": [],
     "language": "python",
     "metadata": {},
     "outputs": [],
     "prompt_number": 14
    }
   ],
   "metadata": {}
  }
 ]
}